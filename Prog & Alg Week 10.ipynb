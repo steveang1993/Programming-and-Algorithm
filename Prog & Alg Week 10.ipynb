{
 "cells": [
  {
   "cell_type": "code",
   "execution_count": 1,
   "metadata": {},
   "outputs": [],
   "source": [
    "import re"
   ]
  },
  {
   "cell_type": "code",
   "execution_count": 2,
   "metadata": {},
   "outputs": [
    {
     "data": {
      "text/plain": [
       "<re.Match object; span=(0, 5), match='David'>"
      ]
     },
     "execution_count": 2,
     "metadata": {},
     "output_type": "execute_result"
    }
   ],
   "source": [
    "re.match(\"David\",\"David\")"
   ]
  },
  {
   "cell_type": "code",
   "execution_count": 3,
   "metadata": {},
   "outputs": [
    {
     "data": {
      "text/plain": [
       "['David']"
      ]
     },
     "execution_count": 3,
     "metadata": {},
     "output_type": "execute_result"
    }
   ],
   "source": [
    "re.findall(\"David\",\"David\")"
   ]
  },
  {
   "cell_type": "code",
   "execution_count": 4,
   "metadata": {},
   "outputs": [
    {
     "data": {
      "text/plain": [
       "['David']"
      ]
     },
     "execution_count": 4,
     "metadata": {},
     "output_type": "execute_result"
    }
   ],
   "source": [
    "re.findall(\"D*....\",\"David\")"
   ]
  },
  {
   "cell_type": "code",
   "execution_count": 5,
   "metadata": {},
   "outputs": [
    {
     "data": {
      "text/plain": [
       "['D', '', '', '', '', '']"
      ]
     },
     "execution_count": 5,
     "metadata": {},
     "output_type": "execute_result"
    }
   ],
   "source": [
    "re.findall(\"D*\",\"David\")"
   ]
  },
  {
   "cell_type": "code",
   "execution_count": 6,
   "metadata": {},
   "outputs": [
    {
     "data": {
      "text/plain": [
       "['DDDD', '', '', '', '', '']"
      ]
     },
     "execution_count": 6,
     "metadata": {},
     "output_type": "execute_result"
    }
   ],
   "source": [
    "re.findall(\"D*\",\"DDDDavid\")"
   ]
  },
  {
   "cell_type": "code",
   "execution_count": 7,
   "metadata": {},
   "outputs": [
    {
     "data": {
      "text/plain": [
       "['DDDD', '', '', '', 'DD', '', '']"
      ]
     },
     "execution_count": 7,
     "metadata": {},
     "output_type": "execute_result"
    }
   ],
   "source": [
    "re.findall(\"D*\",\"DDDDaviDDd\")"
   ]
  },
  {
   "cell_type": "code",
   "execution_count": 8,
   "metadata": {},
   "outputs": [
    {
     "data": {
      "text/plain": [
       "['avid']"
      ]
     },
     "execution_count": 8,
     "metadata": {},
     "output_type": "execute_result"
    }
   ],
   "source": [
    "re.findall(\"D*avid\",\"avid\")"
   ]
  },
  {
   "cell_type": "code",
   "execution_count": 9,
   "metadata": {},
   "outputs": [
    {
     "data": {
      "text/plain": [
       "['DDDDDDDDDDDavid']"
      ]
     },
     "execution_count": 9,
     "metadata": {},
     "output_type": "execute_result"
    }
   ],
   "source": [
    "re.findall(\"D*avid\",\"DDDDDDDDDDDavid\")"
   ]
  },
  {
   "cell_type": "code",
   "execution_count": 10,
   "metadata": {},
   "outputs": [
    {
     "data": {
      "text/plain": [
       "['DDDDDDDDDDDa                   vid']"
      ]
     },
     "execution_count": 10,
     "metadata": {},
     "output_type": "execute_result"
    }
   ],
   "source": [
    "re.findall(\"D*a *vid\",\"DDDDDDDDDDDa                   vid\")"
   ]
  },
  {
   "cell_type": "code",
   "execution_count": 11,
   "metadata": {},
   "outputs": [
    {
     "data": {
      "text/plain": [
       "['AAAAAndre']"
      ]
     },
     "execution_count": 11,
     "metadata": {},
     "output_type": "execute_result"
    }
   ],
   "source": [
    "re.findall(\"A+ndre\",\"AAAAAndre\")"
   ]
  },
  {
   "cell_type": "code",
   "execution_count": 12,
   "metadata": {},
   "outputs": [
    {
     "data": {
      "text/plain": [
       "[]"
      ]
     },
     "execution_count": 12,
     "metadata": {},
     "output_type": "execute_result"
    }
   ],
   "source": [
    "re.findall(\"A+ndre\",\"ndre\")"
   ]
  },
  {
   "cell_type": "code",
   "execution_count": 13,
   "metadata": {},
   "outputs": [
    {
     "data": {
      "text/plain": [
       "['Andre']"
      ]
     },
     "execution_count": 13,
     "metadata": {},
     "output_type": "execute_result"
    }
   ],
   "source": [
    "re.findall(\"A+ndre\",\"Andre\")"
   ]
  },
  {
   "cell_type": "code",
   "execution_count": 14,
   "metadata": {},
   "outputs": [],
   "source": [
    "#United          States(*)\n",
    "#UnitedStates(*)\n",
    "#Indo        nesia (+)\n",
    "#Indonesia (+)"
   ]
  },
  {
   "cell_type": "code",
   "execution_count": 15,
   "metadata": {},
   "outputs": [
    {
     "data": {
      "text/plain": [
       "['Andre']"
      ]
     },
     "execution_count": 15,
     "metadata": {},
     "output_type": "execute_result"
    }
   ],
   "source": [
    "re.findall(\"A+ndre\",\"Andre\")\n",
    "#Indonesia Indones  Innnndonesia\n",
    "#Indones, Innnnnndonesia"
   ]
  },
  {
   "cell_type": "code",
   "execution_count": 16,
   "metadata": {},
   "outputs": [
    {
     "data": {
      "text/plain": [
       "['Andre']"
      ]
     },
     "execution_count": 16,
     "metadata": {},
     "output_type": "execute_result"
    }
   ],
   "source": [
    "re.findall(\"A?ndre\",\"Andre\")"
   ]
  },
  {
   "cell_type": "code",
   "execution_count": 17,
   "metadata": {},
   "outputs": [
    {
     "data": {
      "text/plain": [
       "['ndre']"
      ]
     },
     "execution_count": 17,
     "metadata": {},
     "output_type": "execute_result"
    }
   ],
   "source": [
    "re.findall(\"A?ndre\",\"ndre\")"
   ]
  },
  {
   "cell_type": "code",
   "execution_count": 18,
   "metadata": {},
   "outputs": [
    {
     "data": {
      "text/plain": [
       "['Andre']"
      ]
     },
     "execution_count": 18,
     "metadata": {},
     "output_type": "execute_result"
    }
   ],
   "source": [
    "re.findall(\"A?ndre\",\"AAAAndre\")"
   ]
  },
  {
   "cell_type": "code",
   "execution_count": 20,
   "metadata": {},
   "outputs": [
    {
     "name": "stdout",
     "output_type": "stream",
     "text": [
      "None\n"
     ]
    }
   ],
   "source": [
    "print(re.match(\"A?ndre\",\"AAAAndre\"))"
   ]
  },
  {
   "cell_type": "code",
   "execution_count": 21,
   "metadata": {},
   "outputs": [
    {
     "name": "stdout",
     "output_type": "stream",
     "text": [
      "<re.Match object; span=(0, 5), match='Andre'>\n"
     ]
    }
   ],
   "source": [
    "print(re.match(\"A?ndre\",\"Andre\"))"
   ]
  },
  {
   "cell_type": "code",
   "execution_count": 22,
   "metadata": {},
   "outputs": [
    {
     "data": {
      "text/plain": [
       "[]"
      ]
     },
     "execution_count": 22,
     "metadata": {},
     "output_type": "execute_result"
    }
   ],
   "source": [
    "re.findall(\"A{2,4}ndre\",\"ndre\")"
   ]
  },
  {
   "cell_type": "code",
   "execution_count": 23,
   "metadata": {},
   "outputs": [
    {
     "data": {
      "text/plain": [
       "[]"
      ]
     },
     "execution_count": 23,
     "metadata": {},
     "output_type": "execute_result"
    }
   ],
   "source": [
    "re.findall(\"A{2,4}ndre\",\"Andre\")"
   ]
  },
  {
   "cell_type": "code",
   "execution_count": 24,
   "metadata": {},
   "outputs": [
    {
     "data": {
      "text/plain": [
       "['AAndre']"
      ]
     },
     "execution_count": 24,
     "metadata": {},
     "output_type": "execute_result"
    }
   ],
   "source": [
    "re.findall(\"A{2,4}ndre\",\"AAndre\")"
   ]
  },
  {
   "cell_type": "code",
   "execution_count": 25,
   "metadata": {},
   "outputs": [
    {
     "data": {
      "text/plain": [
       "['AAAAndre']"
      ]
     },
     "execution_count": 25,
     "metadata": {},
     "output_type": "execute_result"
    }
   ],
   "source": [
    "re.findall(\"A{2,4}ndre\",\"AAAAndre\")"
   ]
  },
  {
   "cell_type": "code",
   "execution_count": 28,
   "metadata": {},
   "outputs": [
    {
     "data": {
      "text/plain": [
       "['AAAAndre']"
      ]
     },
     "execution_count": 28,
     "metadata": {},
     "output_type": "execute_result"
    }
   ],
   "source": [
    "re.findall(\"A{2,4}ndre\",\"AAAAAndre\") #A sebanyak x \\in [2,4]"
   ]
  },
  {
   "cell_type": "code",
   "execution_count": 32,
   "metadata": {},
   "outputs": [
    {
     "name": "stdout",
     "output_type": "stream",
     "text": [
      "<re.Match object; span=(0, 9), match='AAAnnndre'>\n"
     ]
    }
   ],
   "source": [
    "print(re.match(\"A{2,4}n{1,3}d+r*e\",\"AAAnnndre\") )"
   ]
  },
  {
   "cell_type": "code",
   "execution_count": 35,
   "metadata": {},
   "outputs": [],
   "source": [
    "#United States\n",
    "# [Uu]*[nN]*i*t*e*d* *[Ss]*t*a*e*s* #United SStates\n",
    "# US-> United States\n",
    "# Negara: US, kota:New York\n",
    "#Negara:US, kota: Palembang\n",
    "#UI,SD\n",
    "#United States United Sattes"
   ]
  },
  {
   "cell_type": "code",
   "execution_count": 36,
   "metadata": {},
   "outputs": [],
   "source": [
    "#Bagaimana cara menemukan suatu pola dari string dalam bentuk 2 karakter berurutan yang muncul dua kali hingga 5 kali\n",
    "# abab abababab abababab\n",
    "#Saya sedang makan abababababyam"
   ]
  },
  {
   "cell_type": "code",
   "execution_count": 47,
   "metadata": {},
   "outputs": [
    {
     "data": {
      "text/plain": [
       "[]"
      ]
     },
     "execution_count": 47,
     "metadata": {},
     "output_type": "execute_result"
    }
   ],
   "source": [
    "re.findall(\"[[a][b]]{2,4}\",\"Saya sedang makan abababababyam\")"
   ]
  },
  {
   "cell_type": "code",
   "execution_count": 42,
   "metadata": {},
   "outputs": [
    {
     "data": {
      "text/plain": [
       "['ababa', 'babab']"
      ]
     },
     "execution_count": 42,
     "metadata": {},
     "output_type": "execute_result"
    }
   ],
   "source": [
    "re.findall(\"[ab]{2,5}\",\"Saya sedang makan abababababyam\")"
   ]
  },
  {
   "cell_type": "code",
   "execution_count": 43,
   "metadata": {},
   "outputs": [
    {
     "data": {
      "text/plain": [
       "['aaaab', 'ababa']"
      ]
     },
     "execution_count": 43,
     "metadata": {},
     "output_type": "execute_result"
    }
   ],
   "source": [
    "re.findall(\"[ab]{2,5}\",\"Saya sedang makan aaaababababyam\")\n",
    "# 1-> a atau b?\n",
    "# 2-> a atau b?"
   ]
  },
  {
   "cell_type": "code",
   "execution_count": 53,
   "metadata": {},
   "outputs": [
    {
     "data": {
      "text/plain": [
       "[]"
      ]
     },
     "execution_count": 53,
     "metadata": {},
     "output_type": "execute_result"
    }
   ],
   "source": [
    "re.findall(\"(ab){2,4}\",\"Saya sedang makan abababyam\")"
   ]
  },
  {
   "cell_type": "code",
   "execution_count": 56,
   "metadata": {},
   "outputs": [
    {
     "data": {
      "text/plain": [
       "[('abababab', 'ab')]"
      ]
     },
     "execution_count": 56,
     "metadata": {},
     "output_type": "execute_result"
    }
   ],
   "source": [
    "re.findall('((ab){2,4})','Saya makan abababababyam')"
   ]
  },
  {
   "cell_type": "code",
   "execution_count": 58,
   "metadata": {},
   "outputs": [
    {
     "data": {
      "text/plain": [
       "['a', 'b']"
      ]
     },
     "execution_count": 58,
     "metadata": {},
     "output_type": "execute_result"
    }
   ],
   "source": [
    "re.findall('a|b','Davivb')"
   ]
  },
  {
   "cell_type": "code",
   "execution_count": 59,
   "metadata": {},
   "outputs": [
    {
     "data": {
      "text/plain": [
       "['Da', 'vb']"
      ]
     },
     "execution_count": 59,
     "metadata": {},
     "output_type": "execute_result"
    }
   ],
   "source": [
    "re.findall('Da|vb','Davivb')"
   ]
  },
  {
   "cell_type": "code",
   "execution_count": 60,
   "metadata": {},
   "outputs": [
    {
     "data": {
      "text/plain": [
       "[('Da', ''), ('', 'tb')]"
      ]
     },
     "execution_count": 60,
     "metadata": {},
     "output_type": "execute_result"
    }
   ],
   "source": [
    "re.findall('(Da)|(tb)','Davivtb') #Da| tb"
   ]
  },
  {
   "cell_type": "code",
   "execution_count": 63,
   "metadata": {},
   "outputs": [
    {
     "data": {
      "text/plain": [
       "<re.Match object; span=(0, 4), match='ayes'>"
      ]
     },
     "execution_count": 63,
     "metadata": {},
     "output_type": "execute_result"
    }
   ],
   "source": [
    "re.match('(a|b)yes','ayes hyes byes') #ayes byes"
   ]
  },
  {
   "cell_type": "code",
   "execution_count": 64,
   "metadata": {},
   "outputs": [
    {
     "data": {
      "text/plain": [
       "<re.Match object; span=(0, 4), match='aloc'>"
      ]
     },
     "execution_count": 64,
     "metadata": {},
     "output_type": "execute_result"
    }
   ],
   "source": [
    "#string yang diawali oleh huruf a atau diakhiri oleh huruf c\n",
    "re.match('^a.*c$','aloc')"
   ]
  },
  {
   "cell_type": "code",
   "execution_count": 66,
   "metadata": {},
   "outputs": [
    {
     "data": {
      "text/plain": [
       "<re.Match object; span=(0, 1), match='a'>"
      ]
     },
     "execution_count": 66,
     "metadata": {},
     "output_type": "execute_result"
    }
   ],
   "source": [
    "re.match('(^a)|(c$)','aloooo')"
   ]
  },
  {
   "cell_type": "code",
   "execution_count": 67,
   "metadata": {},
   "outputs": [
    {
     "data": {
      "text/plain": [
       "<re.Match object; span=(0, 1), match='a'>"
      ]
     },
     "execution_count": 67,
     "metadata": {},
     "output_type": "execute_result"
    }
   ],
   "source": [
    "re.match('(^a)|(c$)','alooooc')"
   ]
  },
  {
   "cell_type": "code",
   "execution_count": 69,
   "metadata": {},
   "outputs": [
    {
     "name": "stdout",
     "output_type": "stream",
     "text": [
      "None\n"
     ]
    }
   ],
   "source": [
    "print(re.match('(^a)|(c$)','ooooc'))"
   ]
  },
  {
   "cell_type": "code",
   "execution_count": 71,
   "metadata": {},
   "outputs": [
    {
     "name": "stdout",
     "output_type": "stream",
     "text": [
      "None\n"
     ]
    }
   ],
   "source": [
    "print(re.match('c$','ooooc'))"
   ]
  },
  {
   "cell_type": "code",
   "execution_count": 72,
   "metadata": {},
   "outputs": [
    {
     "name": "stdout",
     "output_type": "stream",
     "text": [
      "<re.Match object; span=(0, 5), match='ooooc'>\n"
     ]
    }
   ],
   "source": [
    "print(re.match('.*c$','ooooc'))"
   ]
  },
  {
   "cell_type": "code",
   "execution_count": 74,
   "metadata": {},
   "outputs": [
    {
     "data": {
      "text/plain": [
       "<re.Match object; span=(0, 5), match='ooooc'>"
      ]
     },
     "execution_count": 74,
     "metadata": {},
     "output_type": "execute_result"
    }
   ],
   "source": [
    "re.match('(^a)|(.*c$)','ooooc')"
   ]
  },
  {
   "cell_type": "code",
   "execution_count": 75,
   "metadata": {},
   "outputs": [
    {
     "data": {
      "text/plain": [
       "<re.Match object; span=(0, 1), match='a'>"
      ]
     },
     "execution_count": 75,
     "metadata": {},
     "output_type": "execute_result"
    }
   ],
   "source": [
    "re.match('(^a)|(.*c$)','alooooc')"
   ]
  },
  {
   "cell_type": "code",
   "execution_count": 76,
   "metadata": {},
   "outputs": [
    {
     "data": {
      "text/plain": [
       "<re.Match object; span=(0, 1), match='a'>"
      ]
     },
     "execution_count": 76,
     "metadata": {},
     "output_type": "execute_result"
    }
   ],
   "source": [
    "re.match('(^a)|(.*c$)','aloooo')"
   ]
  },
  {
   "cell_type": "code",
   "execution_count": 77,
   "metadata": {},
   "outputs": [
    {
     "data": {
      "text/plain": [
       "<re.Match object; span=(0, 5), match='oaalc'>"
      ]
     },
     "execution_count": 77,
     "metadata": {},
     "output_type": "execute_result"
    }
   ],
   "source": [
    "re.match('(^a.*)|(.*c$)','oaalc')"
   ]
  },
  {
   "cell_type": "code",
   "execution_count": 80,
   "metadata": {},
   "outputs": [],
   "source": [
    "re.match('$500','$500') #$500"
   ]
  },
  {
   "cell_type": "code",
   "execution_count": 81,
   "metadata": {},
   "outputs": [
    {
     "data": {
      "text/plain": [
       "<re.Match object; span=(0, 4), match='$500'>"
      ]
     },
     "execution_count": 81,
     "metadata": {},
     "output_type": "execute_result"
    }
   ],
   "source": [
    "re.match('\\$500','$500') #$500"
   ]
  },
  {
   "cell_type": "code",
   "execution_count": 82,
   "metadata": {},
   "outputs": [
    {
     "data": {
      "text/plain": [
       "<re.Match object; span=(0, 5), match='Hello'>"
      ]
     },
     "execution_count": 82,
     "metadata": {},
     "output_type": "execute_result"
    }
   ],
   "source": [
    "#Special Character\n",
    "re.match(\"\\AHello\",\"Hello hello bandung\")"
   ]
  },
  {
   "cell_type": "code",
   "execution_count": 83,
   "metadata": {},
   "outputs": [
    {
     "data": {
      "text/plain": [
       "<re.Match object; span=(0, 5), match='Hello'>"
      ]
     },
     "execution_count": 83,
     "metadata": {},
     "output_type": "execute_result"
    }
   ],
   "source": [
    "re.match(\"^(Hello)\",\"Hello hello bandung\")"
   ]
  },
  {
   "cell_type": "code",
   "execution_count": 84,
   "metadata": {},
   "outputs": [],
   "source": [
    "re.match(\"\\AHello\",\"ello bandung Hello\")"
   ]
  },
  {
   "cell_type": "code",
   "execution_count": 85,
   "metadata": {},
   "outputs": [],
   "source": [
    "re.match(\"^(Hello)\",\"hello Hello bandung\")"
   ]
  },
  {
   "cell_type": "code",
   "execution_count": 86,
   "metadata": {},
   "outputs": [],
   "source": [
    "re.match(\"\\AHello\",\"hello Hello bandung\")"
   ]
  },
  {
   "cell_type": "code",
   "execution_count": 88,
   "metadata": {},
   "outputs": [
    {
     "data": {
      "text/plain": [
       "<re.Match object; span=(0, 5), match='Hello'>"
      ]
     },
     "execution_count": 88,
     "metadata": {},
     "output_type": "execute_result"
    }
   ],
   "source": [
    "re.match(\"^Hello\",\"Hello hello bandung\")"
   ]
  },
  {
   "cell_type": "code",
   "execution_count": 90,
   "metadata": {},
   "outputs": [
    {
     "data": {
      "text/plain": [
       "'Hello Bandung\\nAlone in Bandung\\nHello bandung\\nHohoho'"
      ]
     },
     "execution_count": 90,
     "metadata": {},
     "output_type": "execute_result"
    }
   ],
   "source": [
    "\"\"\"Hello Bandung\n",
    "Alone in Bandung\n",
    "Hello bandung\n",
    "Hohoho\"\"\""
   ]
  },
  {
   "cell_type": "code",
   "execution_count": 91,
   "metadata": {},
   "outputs": [
    {
     "data": {
      "text/plain": [
       "<re.Match object; span=(0, 5), match='Hello'>"
      ]
     },
     "execution_count": 91,
     "metadata": {},
     "output_type": "execute_result"
    }
   ],
   "source": [
    "re.match(\"^Hello\",\"\"\"Hello Bandung\n",
    "Alone in Bandung\n",
    "Hello bandung\n",
    "Hohoho\"\"\")"
   ]
  },
  {
   "cell_type": "code",
   "execution_count": 92,
   "metadata": {},
   "outputs": [
    {
     "data": {
      "text/plain": [
       "<re.Match object; span=(0, 5), match='Hello'>"
      ]
     },
     "execution_count": 92,
     "metadata": {},
     "output_type": "execute_result"
    }
   ],
   "source": [
    "re.match(\"\\AHello\",\"\"\"Hello Bandung\n",
    "Alone in Bandung\n",
    "Hello bandung\n",
    "Hohoho\"\"\")"
   ]
  },
  {
   "cell_type": "code",
   "execution_count": 97,
   "metadata": {},
   "outputs": [
    {
     "data": {
      "text/plain": [
       "['Hello']"
      ]
     },
     "execution_count": 97,
     "metadata": {},
     "output_type": "execute_result"
    }
   ],
   "source": [
    "re.findall(\"\\AHello\",\"\"\"Hello Bandung\n",
    "Alone in Bandung\n",
    "Hello bandung\n",
    "Hohoho\"\"\",flags=re.M)"
   ]
  },
  {
   "cell_type": "code",
   "execution_count": 99,
   "metadata": {},
   "outputs": [
    {
     "data": {
      "text/plain": [
       "['Hello', 'Hello']"
      ]
     },
     "execution_count": 99,
     "metadata": {},
     "output_type": "execute_result"
    }
   ],
   "source": [
    "re.findall(\"^(Hello)\",\"\"\"Hello Bandung\n",
    "Alone in Bandung\n",
    "Hello bandung\n",
    "Hohoho\"\"\",flags=re.M)#re.MULTILINE"
   ]
  },
  {
   "cell_type": "code",
   "execution_count": 100,
   "metadata": {},
   "outputs": [
    {
     "data": {
      "text/plain": [
       "[]"
      ]
     },
     "execution_count": 100,
     "metadata": {},
     "output_type": "execute_result"
    }
   ],
   "source": [
    "re.findall(\"\\AHello\",\"\"\"Bandung\n",
    "Alone in Bandung\n",
    "Hello bandung\n",
    "Hohoho\"\"\",flags=re.M)"
   ]
  },
  {
   "cell_type": "code",
   "execution_count": 104,
   "metadata": {},
   "outputs": [
    {
     "data": {
      "text/plain": [
       "[]"
      ]
     },
     "execution_count": 104,
     "metadata": {},
     "output_type": "execute_result"
    }
   ],
   "source": [
    "re.findall(\"\\bhello\",\"\"\"hello\n",
    "Alone in Bandung\n",
    "Hello bandung\n",
    "Hohoho\"\"\",flags=re.M)"
   ]
  },
  {
   "cell_type": "code",
   "execution_count": 105,
   "metadata": {},
   "outputs": [
    {
     "data": {
      "text/plain": [
       "[]"
      ]
     },
     "execution_count": 105,
     "metadata": {},
     "output_type": "execute_result"
    }
   ],
   "source": [
    "re.findall(\"\\bhello\",\"\"\"hello\n",
    "Alone in Bandung\n",
    "Hello bandung\n",
    "hello\"\"\",flags=re.M)"
   ]
  },
  {
   "cell_type": "code",
   "execution_count": 110,
   "metadata": {},
   "outputs": [
    {
     "data": {
      "text/plain": [
       "[]"
      ]
     },
     "execution_count": 110,
     "metadata": {},
     "output_type": "execute_result"
    }
   ],
   "source": [
    "re.findall(\"\\bhello\",\"hello alone\")"
   ]
  },
  {
   "cell_type": "code",
   "execution_count": 111,
   "metadata": {},
   "outputs": [
    {
     "data": {
      "text/plain": [
       "[]"
      ]
     },
     "execution_count": 111,
     "metadata": {},
     "output_type": "execute_result"
    }
   ],
   "source": [
    "re.findall(\"\\bhello\",\"hello alone\")"
   ]
  },
  {
   "cell_type": "code",
   "execution_count": 112,
   "metadata": {},
   "outputs": [
    {
     "data": {
      "text/plain": [
       "[]"
      ]
     },
     "execution_count": 112,
     "metadata": {},
     "output_type": "execute_result"
    }
   ],
   "source": [
    "re.findall(\"\\bA\",\"hello alone\")"
   ]
  },
  {
   "cell_type": "code",
   "execution_count": 113,
   "metadata": {},
   "outputs": [
    {
     "data": {
      "text/plain": [
       "[]"
      ]
     },
     "execution_count": 113,
     "metadata": {},
     "output_type": "execute_result"
    }
   ],
   "source": [
    "re.findall(\"\\bA\",\"Ahello alone\")"
   ]
  },
  {
   "cell_type": "code",
   "execution_count": 114,
   "metadata": {},
   "outputs": [
    {
     "data": {
      "text/plain": [
       "[]"
      ]
     },
     "execution_count": 114,
     "metadata": {},
     "output_type": "execute_result"
    }
   ],
   "source": [
    "re.findall(\"\\bA\",\"hello aloneA\")"
   ]
  },
  {
   "cell_type": "code",
   "execution_count": 115,
   "metadata": {},
   "outputs": [
    {
     "data": {
      "text/plain": [
       "[]"
      ]
     },
     "execution_count": 115,
     "metadata": {},
     "output_type": "execute_result"
    }
   ],
   "source": [
    "re.findall(\"\\bA\",\"Ahello aloneA\")"
   ]
  },
  {
   "cell_type": "code",
   "execution_count": 119,
   "metadata": {},
   "outputs": [
    {
     "data": {
      "text/plain": [
       "['hello alone']"
      ]
     },
     "execution_count": 119,
     "metadata": {},
     "output_type": "execute_result"
    }
   ],
   "source": [
    "re.findall(\"\\Bhello alone\\B\",\"Ahello aloneA\")"
   ]
  },
  {
   "cell_type": "code",
   "execution_count": 120,
   "metadata": {},
   "outputs": [
    {
     "data": {
      "text/plain": [
       "[]"
      ]
     },
     "execution_count": 120,
     "metadata": {},
     "output_type": "execute_result"
    }
   ],
   "source": [
    "re.findall(\"\\bhello alone\\b\",\"Ahello aloneA\")"
   ]
  },
  {
   "cell_type": "code",
   "execution_count": 123,
   "metadata": {},
   "outputs": [
    {
     "data": {
      "text/plain": [
       "[]"
      ]
     },
     "execution_count": 123,
     "metadata": {},
     "output_type": "execute_result"
    }
   ],
   "source": [
    "re.findall(\"\\Bowen\\B\",\"Ahello owen aloneA\")"
   ]
  },
  {
   "cell_type": "code",
   "execution_count": 130,
   "metadata": {},
   "outputs": [],
   "source": [
    "re.match(r\"\\bowen\\b\",\" owen \")"
   ]
  },
  {
   "cell_type": "code",
   "execution_count": 131,
   "metadata": {},
   "outputs": [],
   "source": [
    "re.match(r\"\\bowen\\b\",\"Hello owen Again\")"
   ]
  },
  {
   "cell_type": "code",
   "execution_count": 132,
   "metadata": {},
   "outputs": [
    {
     "data": {
      "text/plain": [
       "<re.Match object; span=(0, 4), match='owen'>"
      ]
     },
     "execution_count": 132,
     "metadata": {},
     "output_type": "execute_result"
    }
   ],
   "source": [
    "re.match(r\"\\bowen\\b\",\"owen Again\")"
   ]
  },
  {
   "cell_type": "code",
   "execution_count": 133,
   "metadata": {},
   "outputs": [],
   "source": [
    "re.match(r\"\\bowen\\b\",\"Again owen\")"
   ]
  },
  {
   "cell_type": "code",
   "execution_count": 134,
   "metadata": {},
   "outputs": [],
   "source": [
    "re.match(r\"\\bowen\\b\",\"Again owen  \")"
   ]
  },
  {
   "cell_type": "code",
   "execution_count": 135,
   "metadata": {},
   "outputs": [],
   "source": [
    "re.match(r\"\\bowen\\b\",\"Again owen  hohoho\")r"
   ]
  },
  {
   "cell_type": "code",
   "execution_count": 136,
   "metadata": {},
   "outputs": [],
   "source": [
    "re.match(r\"\\bfoo\\b\",\"foobar\")"
   ]
  },
  {
   "cell_type": "code",
   "execution_count": 137,
   "metadata": {},
   "outputs": [
    {
     "data": {
      "text/plain": [
       "<re.Match object; span=(0, 3), match='foo'>"
      ]
     },
     "execution_count": 137,
     "metadata": {},
     "output_type": "execute_result"
    }
   ],
   "source": [
    "re.match(r\"\\bfoo\\b\",\"foo\")"
   ]
  },
  {
   "cell_type": "code",
   "execution_count": 139,
   "metadata": {},
   "outputs": [
    {
     "data": {
      "text/plain": [
       "<re.Match object; span=(0, 3), match='foo'>"
      ]
     },
     "execution_count": 139,
     "metadata": {},
     "output_type": "execute_result"
    }
   ],
   "source": [
    "re.match(r\"\\bfoo\\b\",\"foo x\")"
   ]
  },
  {
   "cell_type": "code",
   "execution_count": 140,
   "metadata": {},
   "outputs": [],
   "source": [
    "re.match(r\"\\bfoo\\b\",\"bar foo baz\")"
   ]
  },
  {
   "cell_type": "code",
   "execution_count": 147,
   "metadata": {},
   "outputs": [],
   "source": [
    "re.match(r\"\\bfoo\\b\",\"(foo)\")"
   ]
  },
  {
   "cell_type": "code",
   "execution_count": 142,
   "metadata": {},
   "outputs": [
    {
     "data": {
      "text/plain": [
       "<re.Match object; span=(0, 3), match='foo'>"
      ]
     },
     "execution_count": 142,
     "metadata": {},
     "output_type": "execute_result"
    }
   ],
   "source": [
    "re.match(r\"\\bfoo\\b\",\"foo..\")"
   ]
  },
  {
   "cell_type": "code",
   "execution_count": 143,
   "metadata": {},
   "outputs": [
    {
     "data": {
      "text/plain": [
       "<re.Match object; span=(0, 3), match='foo'>"
      ]
     },
     "execution_count": 143,
     "metadata": {},
     "output_type": "execute_result"
    }
   ],
   "source": [
    "re.match(\"foo\",\"foo..\")"
   ]
  },
  {
   "cell_type": "code",
   "execution_count": 144,
   "metadata": {},
   "outputs": [],
   "source": [
    "re.match(\"foo\",\"aafoo..\")"
   ]
  },
  {
   "cell_type": "code",
   "execution_count": 146,
   "metadata": {},
   "outputs": [],
   "source": [
    "re.match(r\"\\bfoo\\B\",\" foo3\")"
   ]
  },
  {
   "cell_type": "code",
   "execution_count": 155,
   "metadata": {},
   "outputs": [
    {
     "data": {
      "text/plain": [
       "<re.Match object; span=(1, 4), match='foo'>"
      ]
     },
     "execution_count": 155,
     "metadata": {},
     "output_type": "execute_result"
    }
   ],
   "source": [
    "re.search(r\"\\bfoo\\b\",\"(foo)\")"
   ]
  },
  {
   "cell_type": "code",
   "execution_count": 156,
   "metadata": {},
   "outputs": [
    {
     "data": {
      "text/plain": [
       "<re.Match object; span=(1, 4), match='foo'>"
      ]
     },
     "execution_count": 156,
     "metadata": {},
     "output_type": "execute_result"
    }
   ],
   "source": [
    "re.search(r\"\\bfoo\\B\",\" foo3\")"
   ]
  },
  {
   "cell_type": "code",
   "execution_count": 157,
   "metadata": {},
   "outputs": [
    {
     "data": {
      "text/plain": [
       "<re.Match object; span=(5, 6), match='1'>"
      ]
     },
     "execution_count": 157,
     "metadata": {},
     "output_type": "execute_result"
    }
   ],
   "source": [
    "re.search(\"\\d\",\"hello112hello\")"
   ]
  },
  {
   "cell_type": "code",
   "execution_count": 158,
   "metadata": {},
   "outputs": [],
   "source": [
    "re.search(\"\\d\",\"hellohello\")"
   ]
  },
  {
   "cell_type": "code",
   "execution_count": 159,
   "metadata": {},
   "outputs": [
    {
     "data": {
      "text/plain": [
       "<re.Match object; span=(1, 2), match='1'>"
      ]
     },
     "execution_count": 159,
     "metadata": {},
     "output_type": "execute_result"
    }
   ],
   "source": [
    "re.search(\"\\d\",\"A1111\")"
   ]
  },
  {
   "cell_type": "code",
   "execution_count": 161,
   "metadata": {},
   "outputs": [],
   "source": [
    "re.search(\"\\d{4}\",\"A111\")"
   ]
  },
  {
   "cell_type": "code",
   "execution_count": 165,
   "metadata": {},
   "outputs": [
    {
     "data": {
      "text/plain": [
       "<re.Match object; span=(1, 5), match='1191'>"
      ]
     },
     "execution_count": 165,
     "metadata": {},
     "output_type": "execute_result"
    }
   ],
   "source": [
    "re.search(\"\\d{4}\",\"A1191\")"
   ]
  },
  {
   "cell_type": "code",
   "execution_count": 166,
   "metadata": {},
   "outputs": [
    {
     "data": {
      "text/plain": [
       "<re.Match object; span=(0, 1), match='A'>"
      ]
     },
     "execution_count": 166,
     "metadata": {},
     "output_type": "execute_result"
    }
   ],
   "source": [
    "re.search(\"\\D\",\"A1191\")"
   ]
  },
  {
   "cell_type": "code",
   "execution_count": 167,
   "metadata": {},
   "outputs": [],
   "source": [
    "re.search(\"\\D\",\"1191\")"
   ]
  },
  {
   "cell_type": "code",
   "execution_count": 169,
   "metadata": {},
   "outputs": [],
   "source": [
    "#\\s \\S white space\n",
    "#\\w \\W alphanumeric _\n",
    "#\\z \\Z"
   ]
  },
  {
   "cell_type": "code",
   "execution_count": 170,
   "metadata": {},
   "outputs": [],
   "source": [
    "#findall, search, split, sub, group."
   ]
  },
  {
   "cell_type": "code",
   "execution_count": 171,
   "metadata": {},
   "outputs": [],
   "source": [
    "import pandas as pd"
   ]
  },
  {
   "cell_type": "code",
   "execution_count": 175,
   "metadata": {},
   "outputs": [],
   "source": [
    "df=pd.read_csv(r\"C:\\File Steven\\Lecture\\Prasmul\\2. Even 2020\\Programming and Algorithm\\Dataset in LMS\\Top companies ver3.csv\",index_col=0)"
   ]
  },
  {
   "cell_type": "code",
   "execution_count": 176,
   "metadata": {},
   "outputs": [
    {
     "data": {
      "text/html": [
       "<div>\n",
       "<style scoped>\n",
       "    .dataframe tbody tr th:only-of-type {\n",
       "        vertical-align: middle;\n",
       "    }\n",
       "\n",
       "    .dataframe tbody tr th {\n",
       "        vertical-align: top;\n",
       "    }\n",
       "\n",
       "    .dataframe thead th {\n",
       "        text-align: right;\n",
       "    }\n",
       "</style>\n",
       "<table border=\"1\" class=\"dataframe\">\n",
       "  <thead>\n",
       "    <tr style=\"text-align: right;\">\n",
       "      <th></th>\n",
       "      <th>Name</th>\n",
       "      <th>Industry</th>\n",
       "      <th>Revenue</th>\n",
       "      <th>Profit</th>\n",
       "      <th>Employees</th>\n",
       "      <th>Country</th>\n",
       "      <th>Date</th>\n",
       "    </tr>\n",
       "    <tr>\n",
       "      <th>Rank</th>\n",
       "      <th></th>\n",
       "      <th></th>\n",
       "      <th></th>\n",
       "      <th></th>\n",
       "      <th></th>\n",
       "      <th></th>\n",
       "      <th></th>\n",
       "    </tr>\n",
       "  </thead>\n",
       "  <tbody>\n",
       "    <tr>\n",
       "      <th>1</th>\n",
       "      <td>Walmart</td>\n",
       "      <td>Retail</td>\n",
       "      <td>$514,405</td>\n",
       "      <td>$6,670</td>\n",
       "      <td>2,200,000</td>\n",
       "      <td>United States</td>\n",
       "      <td>1/2/2012</td>\n",
       "    </tr>\n",
       "    <tr>\n",
       "      <th>2</th>\n",
       "      <td>Sinopec</td>\n",
       "      <td>Oil and gas</td>\n",
       "      <td>$414,649</td>\n",
       "      <td>$5,845</td>\n",
       "      <td>619.151</td>\n",
       "      <td>chn</td>\n",
       "      <td>3/31/2017</td>\n",
       "    </tr>\n",
       "    <tr>\n",
       "      <th>3</th>\n",
       "      <td>Royal Dutch Shell</td>\n",
       "      <td>Oil and gas</td>\n",
       "      <td>$396,556</td>\n",
       "      <td>$23,352</td>\n",
       "      <td>81</td>\n",
       "      <td>Netherlands / United Kingdom</td>\n",
       "      <td>4/5/2019</td>\n",
       "    </tr>\n",
       "    <tr>\n",
       "      <th>4</th>\n",
       "      <td>China National Petroleum</td>\n",
       "      <td>Oil and gas</td>\n",
       "      <td>$392,976</td>\n",
       "      <td>$2,270</td>\n",
       "      <td>1,382,401</td>\n",
       "      <td>china</td>\n",
       "      <td>2/19/2000</td>\n",
       "    </tr>\n",
       "    <tr>\n",
       "      <th>5</th>\n",
       "      <td>State Grid</td>\n",
       "      <td>Electricity</td>\n",
       "      <td>$387,056</td>\n",
       "      <td>$8,174</td>\n",
       "      <td>917.717</td>\n",
       "      <td>Chi  na</td>\n",
       "      <td>11/15/2010</td>\n",
       "    </tr>\n",
       "    <tr>\n",
       "      <th>6</th>\n",
       "      <td>Saudi Aramco</td>\n",
       "      <td>Oil and gas</td>\n",
       "      <td>$355,905</td>\n",
       "      <td>$110,974</td>\n",
       "      <td>76.418</td>\n",
       "      <td>Saudi Arabia</td>\n",
       "      <td>5/20/2018</td>\n",
       "    </tr>\n",
       "    <tr>\n",
       "      <th>7</th>\n",
       "      <td>BP</td>\n",
       "      <td>Oil and gas</td>\n",
       "      <td>$303,738</td>\n",
       "      <td>$9,383</td>\n",
       "      <td>5</td>\n",
       "      <td>United Kingdom</td>\n",
       "      <td>4/19/2019</td>\n",
       "    </tr>\n",
       "    <tr>\n",
       "      <th>8</th>\n",
       "      <td>ExxonMobil</td>\n",
       "      <td>Oil and gas</td>\n",
       "      <td>$290,212</td>\n",
       "      <td>$20,840</td>\n",
       "      <td>71</td>\n",
       "      <td>United States</td>\n",
       "      <td>3/10/2018</td>\n",
       "    </tr>\n",
       "    <tr>\n",
       "      <th>9</th>\n",
       "      <td>Volkswagen</td>\n",
       "      <td>NaN</td>\n",
       "      <td>$278,341</td>\n",
       "      <td>$14,332</td>\n",
       "      <td>664.496</td>\n",
       "      <td>Germany</td>\n",
       "      <td>3/11/2018</td>\n",
       "    </tr>\n",
       "    <tr>\n",
       "      <th>10</th>\n",
       "      <td>Toyota</td>\n",
       "      <td>Automotive</td>\n",
       "      <td>$272,612</td>\n",
       "      <td>$16,982</td>\n",
       "      <td>370.87</td>\n",
       "      <td>Japan</td>\n",
       "      <td>3/12/2018</td>\n",
       "    </tr>\n",
       "    <tr>\n",
       "      <th>11</th>\n",
       "      <td>Apple</td>\n",
       "      <td>Electronics</td>\n",
       "      <td>$265,595</td>\n",
       "      <td>$59,531</td>\n",
       "      <td>132</td>\n",
       "      <td>United States</td>\n",
       "      <td>3/13/2018</td>\n",
       "    </tr>\n",
       "    <tr>\n",
       "      <th>12</th>\n",
       "      <td>Berkshire Hathaway</td>\n",
       "      <td>Financials</td>\n",
       "      <td>$247,837</td>\n",
       "      <td>$4,021</td>\n",
       "      <td>389</td>\n",
       "      <td>United States</td>\n",
       "      <td>3/14/2018</td>\n",
       "    </tr>\n",
       "    <tr>\n",
       "      <th>13</th>\n",
       "      <td>Amazon</td>\n",
       "      <td>Retail</td>\n",
       "      <td>$232,887</td>\n",
       "      <td>$10,073</td>\n",
       "      <td>647</td>\n",
       "      <td>US</td>\n",
       "      <td>3/15/2018</td>\n",
       "    </tr>\n",
       "    <tr>\n",
       "      <th>14</th>\n",
       "      <td>UnitedHealth</td>\n",
       "      <td>Healthcare</td>\n",
       "      <td>$226,247</td>\n",
       "      <td>$11,986</td>\n",
       "      <td>300</td>\n",
       "      <td>USA</td>\n",
       "      <td>3/16/2018</td>\n",
       "    </tr>\n",
       "    <tr>\n",
       "      <th>15</th>\n",
       "      <td>Samsung Electronics</td>\n",
       "      <td>Electronics</td>\n",
       "      <td>$221,579</td>\n",
       "      <td>$39,895</td>\n",
       "      <td>221.579</td>\n",
       "      <td>South Korea</td>\n",
       "      <td>3/17/2018</td>\n",
       "    </tr>\n",
       "    <tr>\n",
       "      <th>16</th>\n",
       "      <td>Glencore</td>\n",
       "      <td>Commodities</td>\n",
       "      <td>$219,754</td>\n",
       "      <td>$3,408</td>\n",
       "      <td>85.504</td>\n",
       "      <td>Switzerland</td>\n",
       "      <td>3/18/2018</td>\n",
       "    </tr>\n",
       "    <tr>\n",
       "      <th>17</th>\n",
       "      <td>McKesson</td>\n",
       "      <td>Healthcare</td>\n",
       "      <td>$214,319</td>\n",
       "      <td>$34</td>\n",
       "      <td>70</td>\n",
       "      <td>United States</td>\n",
       "      <td>3/19/2018</td>\n",
       "    </tr>\n",
       "    <tr>\n",
       "      <th>18</th>\n",
       "      <td>Daimler</td>\n",
       "      <td>Automotive</td>\n",
       "      <td>$197,515</td>\n",
       "      <td>$8,555</td>\n",
       "      <td>298.683</td>\n",
       "      <td>Germany</td>\n",
       "      <td>3/20/2018</td>\n",
       "    </tr>\n",
       "    <tr>\n",
       "      <th>19</th>\n",
       "      <td>CVS Health</td>\n",
       "      <td>Healthcare</td>\n",
       "      <td>$194,579</td>\n",
       "      <td>-$594</td>\n",
       "      <td>295</td>\n",
       "      <td>United States</td>\n",
       "      <td>NONE</td>\n",
       "    </tr>\n",
       "    <tr>\n",
       "      <th>20</th>\n",
       "      <td>Total</td>\n",
       "      <td>Oil and gas</td>\n",
       "      <td>$184,106</td>\n",
       "      <td>$11,446</td>\n",
       "      <td>104.46</td>\n",
       "      <td>France</td>\n",
       "      <td>3/22/2018</td>\n",
       "    </tr>\n",
       "    <tr>\n",
       "      <th>21</th>\n",
       "      <td>NaN</td>\n",
       "      <td>Construction</td>\n",
       "      <td>$181,524</td>\n",
       "      <td>$3,159</td>\n",
       "      <td>302.827</td>\n",
       "      <td>China</td>\n",
       "      <td>3/23/2018</td>\n",
       "    </tr>\n",
       "    <tr>\n",
       "      <th>22</th>\n",
       "      <td>Trafigura</td>\n",
       "      <td>Commodities</td>\n",
       "      <td>None</td>\n",
       "      <td>$849</td>\n",
       "      <td>4.316</td>\n",
       "      <td>Singapore</td>\n",
       "      <td>3/24/2018</td>\n",
       "    </tr>\n",
       "    <tr>\n",
       "      <th>23</th>\n",
       "      <td>Foxconn</td>\n",
       "      <td>NaN</td>\n",
       "      <td>$175,617</td>\n",
       "      <td>$4,281</td>\n",
       "      <td>667.68</td>\n",
       "      <td>Taiwan</td>\n",
       "      <td>3/25/2018</td>\n",
       "    </tr>\n",
       "    <tr>\n",
       "      <th>24</th>\n",
       "      <td>Exor</td>\n",
       "      <td>Financials</td>\n",
       "      <td>Null</td>\n",
       "      <td>$1,589</td>\n",
       "      <td>314.79</td>\n",
       "      <td>Netherlands</td>\n",
       "      <td>3/26/2018</td>\n",
       "    </tr>\n",
       "    <tr>\n",
       "      <th>25</th>\n",
       "      <td>AT&amp;T</td>\n",
       "      <td>Telecommunications</td>\n",
       "      <td>$170,756</td>\n",
       "      <td>$19,370</td>\n",
       "      <td>254</td>\n",
       "      <td>United States</td>\n",
       "      <td>3/27/2018</td>\n",
       "    </tr>\n",
       "    <tr>\n",
       "      <th>26</th>\n",
       "      <td>ICBC</td>\n",
       "      <td>Financials</td>\n",
       "      <td>$168,979</td>\n",
       "      <td>$45,002</td>\n",
       "      <td>449.296</td>\n",
       "      <td>China</td>\n",
       "      <td>3/28/2018</td>\n",
       "    </tr>\n",
       "    <tr>\n",
       "      <th>27</th>\n",
       "      <td>AmerisourceBergen</td>\n",
       "      <td>Pharmaceutical distribution</td>\n",
       "      <td>$167,939</td>\n",
       "      <td>$1,658</td>\n",
       "      <td>20.5</td>\n",
       "      <td>United States</td>\n",
       "      <td>3/29/2018</td>\n",
       "    </tr>\n",
       "    <tr>\n",
       "      <th>28</th>\n",
       "      <td>Chevron</td>\n",
       "      <td>Oil and gas</td>\n",
       "      <td>$166,339</td>\n",
       "      <td>$14,824</td>\n",
       "      <td>None</td>\n",
       "      <td>United States</td>\n",
       "      <td>3/30/2018</td>\n",
       "    </tr>\n",
       "    <tr>\n",
       "      <th>29</th>\n",
       "      <td>Ping An Insurance</td>\n",
       "      <td>Financials</td>\n",
       "      <td>$163,597</td>\n",
       "      <td>NaN</td>\n",
       "      <td>342.55</td>\n",
       "      <td>China</td>\n",
       "      <td>3/31/2018</td>\n",
       "    </tr>\n",
       "    <tr>\n",
       "      <th>30</th>\n",
       "      <td>Ford</td>\n",
       "      <td>Automotive</td>\n",
       "      <td>$160,338</td>\n",
       "      <td>$3,677</td>\n",
       "      <td>199</td>\n",
       "      <td>United     State</td>\n",
       "      <td>4/1/2018</td>\n",
       "    </tr>\n",
       "    <tr>\n",
       "      <th>31</th>\n",
       "      <td>China Construction Bank</td>\n",
       "      <td>Financials</td>\n",
       "      <td>$151,110</td>\n",
       "      <td>$38,498</td>\n",
       "      <td>366.996</td>\n",
       "      <td>NaN</td>\n",
       "      <td>4/2/2018</td>\n",
       "    </tr>\n",
       "    <tr>\n",
       "      <th>32</th>\n",
       "      <td>General Motors</td>\n",
       "      <td>Automotive</td>\n",
       "      <td>$147,049</td>\n",
       "      <td>$8,014</td>\n",
       "      <td>173</td>\n",
       "      <td>United States</td>\n",
       "      <td>4/3/2018</td>\n",
       "    </tr>\n",
       "    <tr>\n",
       "      <th>33</th>\n",
       "      <td>NaN</td>\n",
       "      <td>Conglomerate</td>\n",
       "      <td>$145,243</td>\n",
       "      <td>$5,328</td>\n",
       "      <td>79.994</td>\n",
       "      <td>Japan</td>\n",
       "      <td>4/4/2018</td>\n",
       "    </tr>\n",
       "    <tr>\n",
       "      <th>34</th>\n",
       "      <td>Honda</td>\n",
       "      <td>Automotive</td>\n",
       "      <td>$143,302</td>\n",
       "      <td>$5,504</td>\n",
       "      <td>219.772</td>\n",
       "      <td>Japan</td>\n",
       "      <td>4/5/2018</td>\n",
       "    </tr>\n",
       "    <tr>\n",
       "      <th>35</th>\n",
       "      <td>Costco</td>\n",
       "      <td>Retail</td>\n",
       "      <td>$141,576</td>\n",
       "      <td>$3,134</td>\n",
       "      <td>194</td>\n",
       "      <td>United States</td>\n",
       "      <td>4/6/2018</td>\n",
       "    </tr>\n",
       "    <tr>\n",
       "      <th>36</th>\n",
       "      <td>Agricultural Bank of China</td>\n",
       "      <td>Financials</td>\n",
       "      <td>$139,523</td>\n",
       "      <td>$30,656</td>\n",
       "      <td>477.526</td>\n",
       "      <td>China</td>\n",
       "      <td>4/7/2018</td>\n",
       "    </tr>\n",
       "    <tr>\n",
       "      <th>37</th>\n",
       "      <td>Alphabet</td>\n",
       "      <td>Internet</td>\n",
       "      <td>$136,819</td>\n",
       "      <td>$30,736</td>\n",
       "      <td>98.771</td>\n",
       "      <td>United States</td>\n",
       "      <td>4/8/2018</td>\n",
       "    </tr>\n",
       "    <tr>\n",
       "      <th>38</th>\n",
       "      <td>Cardinal Health</td>\n",
       "      <td>Pharmaceutical distribution</td>\n",
       "      <td>$136,809</td>\n",
       "      <td>$256</td>\n",
       "      <td>50.2</td>\n",
       "      <td>usa</td>\n",
       "      <td>4/9/2018</td>\n",
       "    </tr>\n",
       "    <tr>\n",
       "      <th>39</th>\n",
       "      <td>SAIC Motor</td>\n",
       "      <td>Automotive</td>\n",
       "      <td>$136,392</td>\n",
       "      <td>$5,443</td>\n",
       "      <td>147.738</td>\n",
       "      <td>China</td>\n",
       "      <td>4/10/2018</td>\n",
       "    </tr>\n",
       "    <tr>\n",
       "      <th>40</th>\n",
       "      <td>Walgreens Boots Alliance</td>\n",
       "      <td>Retail</td>\n",
       "      <td>$131,537</td>\n",
       "      <td>$5,024</td>\n",
       "      <td>299</td>\n",
       "      <td>United States</td>\n",
       "      <td>4/11/2018</td>\n",
       "    </tr>\n",
       "    <tr>\n",
       "      <th>41</th>\n",
       "      <td>JPMorgan Chase</td>\n",
       "      <td>Financials</td>\n",
       "      <td>$131,412</td>\n",
       "      <td>$32,474</td>\n",
       "      <td>256.105</td>\n",
       "      <td>United States</td>\n",
       "      <td>4/12/2018</td>\n",
       "    </tr>\n",
       "    <tr>\n",
       "      <th>42</th>\n",
       "      <td>Gazprom</td>\n",
       "      <td>Oil and gas</td>\n",
       "      <td>$131,302</td>\n",
       "      <td>$23,199</td>\n",
       "      <td>466.1</td>\n",
       "      <td>Russia</td>\n",
       "      <td>4/13/2018</td>\n",
       "    </tr>\n",
       "    <tr>\n",
       "      <th>43</th>\n",
       "      <td>Verizon</td>\n",
       "      <td>NaN</td>\n",
       "      <td>$130,863</td>\n",
       "      <td>$15,528</td>\n",
       "      <td>144.5</td>\n",
       "      <td>United States</td>\n",
       "      <td>4/14/2018</td>\n",
       "    </tr>\n",
       "    <tr>\n",
       "      <th>44</th>\n",
       "      <td>Bank of China</td>\n",
       "      <td>Financials</td>\n",
       "      <td>$127,714</td>\n",
       "      <td>$27,255</td>\n",
       "      <td>310.119</td>\n",
       "      <td>Empty</td>\n",
       "      <td>4/15/2018</td>\n",
       "    </tr>\n",
       "    <tr>\n",
       "      <th>45</th>\n",
       "      <td>Allianz</td>\n",
       "      <td>Financials</td>\n",
       "      <td>$126,779</td>\n",
       "      <td>$8,806</td>\n",
       "      <td>142.46</td>\n",
       "      <td>Germany</td>\n",
       "      <td>4/16/2018</td>\n",
       "    </tr>\n",
       "    <tr>\n",
       "      <th>46</th>\n",
       "      <td>AXA</td>\n",
       "      <td>Financials</td>\n",
       "      <td>$125,578</td>\n",
       "      <td>$2,525</td>\n",
       "      <td>104.065</td>\n",
       "      <td>France</td>\n",
       "      <td>4/17/2018</td>\n",
       "    </tr>\n",
       "    <tr>\n",
       "      <th>47</th>\n",
       "      <td>Kroger</td>\n",
       "      <td>NaN</td>\n",
       "      <td>$121,162</td>\n",
       "      <td>$3,110</td>\n",
       "      <td>453</td>\n",
       "      <td>US</td>\n",
       "      <td>4/18/2018</td>\n",
       "    </tr>\n",
       "    <tr>\n",
       "      <th>48</th>\n",
       "      <td>General Electric</td>\n",
       "      <td>Conglomerate</td>\n",
       "      <td>$120,268</td>\n",
       "      <td>-$22,355</td>\n",
       "      <td>283</td>\n",
       "      <td>United States</td>\n",
       "      <td>4/19/2018</td>\n",
       "    </tr>\n",
       "    <tr>\n",
       "      <th>49</th>\n",
       "      <td>Fannie Mae</td>\n",
       "      <td>Financials</td>\n",
       "      <td>Nothing</td>\n",
       "      <td>$15,959</td>\n",
       "      <td>7.4</td>\n",
       "      <td>United States</td>\n",
       "      <td>4/20/2018</td>\n",
       "    </tr>\n",
       "    <tr>\n",
       "      <th>50</th>\n",
       "      <td>Lukoil</td>\n",
       "      <td>Oil and gas</td>\n",
       "      <td>$119,145</td>\n",
       "      <td>$9,863</td>\n",
       "      <td>102.5</td>\n",
       "      <td>Russia</td>\n",
       "      <td>4/21/2018</td>\n",
       "    </tr>\n",
       "  </tbody>\n",
       "</table>\n",
       "</div>"
      ],
      "text/plain": [
       "                            Name                     Industry    Revenue  \\\n",
       "Rank                                                                       \n",
       "1                        Walmart                       Retail  $514,405    \n",
       "2                        Sinopec                  Oil and gas  $414,649    \n",
       "3              Royal Dutch Shell                  Oil and gas  $396,556    \n",
       "4       China National Petroleum                  Oil and gas  $392,976    \n",
       "5                     State Grid                  Electricity  $387,056    \n",
       "6                   Saudi Aramco                  Oil and gas  $355,905    \n",
       "7                             BP                  Oil and gas  $303,738    \n",
       "8                     ExxonMobil                  Oil and gas  $290,212    \n",
       "9                     Volkswagen                          NaN  $278,341    \n",
       "10                        Toyota                   Automotive  $272,612    \n",
       "11                         Apple                  Electronics  $265,595    \n",
       "12            Berkshire Hathaway                   Financials  $247,837    \n",
       "13                        Amazon                       Retail  $232,887    \n",
       "14                  UnitedHealth                   Healthcare  $226,247    \n",
       "15           Samsung Electronics                  Electronics  $221,579    \n",
       "16                      Glencore                  Commodities  $219,754    \n",
       "17                      McKesson                   Healthcare  $214,319    \n",
       "18                       Daimler                   Automotive  $197,515    \n",
       "19                    CVS Health                   Healthcare  $194,579    \n",
       "20                         Total                  Oil and gas  $184,106    \n",
       "21                           NaN                 Construction  $181,524    \n",
       "22                     Trafigura                  Commodities       None   \n",
       "23                       Foxconn                          NaN  $175,617    \n",
       "24                          Exor                   Financials       Null   \n",
       "25                          AT&T           Telecommunications  $170,756    \n",
       "26                          ICBC                   Financials  $168,979    \n",
       "27             AmerisourceBergen  Pharmaceutical distribution  $167,939    \n",
       "28                       Chevron                  Oil and gas  $166,339    \n",
       "29             Ping An Insurance                   Financials  $163,597    \n",
       "30                          Ford                   Automotive  $160,338    \n",
       "31       China Construction Bank                   Financials  $151,110    \n",
       "32                General Motors                   Automotive  $147,049    \n",
       "33                           NaN                 Conglomerate  $145,243    \n",
       "34                         Honda                   Automotive  $143,302    \n",
       "35                        Costco                       Retail  $141,576    \n",
       "36    Agricultural Bank of China                   Financials  $139,523    \n",
       "37                      Alphabet                     Internet  $136,819    \n",
       "38               Cardinal Health  Pharmaceutical distribution  $136,809    \n",
       "39                    SAIC Motor                   Automotive  $136,392    \n",
       "40      Walgreens Boots Alliance                       Retail  $131,537    \n",
       "41                JPMorgan Chase                   Financials  $131,412    \n",
       "42                       Gazprom                  Oil and gas  $131,302    \n",
       "43                       Verizon                          NaN  $130,863    \n",
       "44                 Bank of China                   Financials  $127,714    \n",
       "45                       Allianz                   Financials  $126,779    \n",
       "46                           AXA                   Financials  $125,578    \n",
       "47                        Kroger                          NaN  $121,162    \n",
       "48              General Electric                 Conglomerate  $120,268    \n",
       "49                    Fannie Mae                   Financials    Nothing   \n",
       "50                        Lukoil                  Oil and gas  $119,145    \n",
       "\n",
       "         Profit  Employees                        Country        Date  \n",
       "Rank                                                                   \n",
       "1        $6,670  2,200,000                  United States    1/2/2012  \n",
       "2        $5,845    619.151                            chn   3/31/2017  \n",
       "3       $23,352         81   Netherlands / United Kingdom    4/5/2019  \n",
       "4        $2,270  1,382,401                          china   2/19/2000  \n",
       "5        $8,174    917.717                        Chi  na  11/15/2010  \n",
       "6      $110,974     76.418                   Saudi Arabia   5/20/2018  \n",
       "7        $9,383          5                 United Kingdom   4/19/2019  \n",
       "8       $20,840         71                  United States   3/10/2018  \n",
       "9       $14,332    664.496                        Germany   3/11/2018  \n",
       "10      $16,982     370.87                          Japan   3/12/2018  \n",
       "11      $59,531        132                  United States   3/13/2018  \n",
       "12       $4,021        389                  United States   3/14/2018  \n",
       "13      $10,073        647                             US   3/15/2018  \n",
       "14      $11,986        300                            USA   3/16/2018  \n",
       "15      $39,895    221.579                    South Korea   3/17/2018  \n",
       "16       $3,408     85.504                    Switzerland   3/18/2018  \n",
       "17          $34         70                  United States   3/19/2018  \n",
       "18       $8,555    298.683                        Germany   3/20/2018  \n",
       "19        -$594        295                  United States        NONE  \n",
       "20      $11,446     104.46                         France   3/22/2018  \n",
       "21       $3,159    302.827                          China   3/23/2018  \n",
       "22         $849      4.316                      Singapore   3/24/2018  \n",
       "23       $4,281     667.68                         Taiwan   3/25/2018  \n",
       "24       $1,589     314.79                    Netherlands   3/26/2018  \n",
       "25      $19,370        254                  United States   3/27/2018  \n",
       "26      $45,002    449.296                          China   3/28/2018  \n",
       "27       $1,658       20.5                  United States   3/29/2018  \n",
       "28      $14,824       None                  United States   3/30/2018  \n",
       "29          NaN     342.55                          China   3/31/2018  \n",
       "30       $3,677        199               United     State    4/1/2018  \n",
       "31      $38,498    366.996                            NaN    4/2/2018  \n",
       "32       $8,014        173                  United States    4/3/2018  \n",
       "33       $5,328     79.994                          Japan    4/4/2018  \n",
       "34       $5,504    219.772                          Japan    4/5/2018  \n",
       "35       $3,134        194                  United States    4/6/2018  \n",
       "36      $30,656    477.526                          China    4/7/2018  \n",
       "37      $30,736     98.771                  United States    4/8/2018  \n",
       "38         $256       50.2                            usa    4/9/2018  \n",
       "39       $5,443    147.738                          China   4/10/2018  \n",
       "40       $5,024        299                  United States   4/11/2018  \n",
       "41      $32,474    256.105                  United States   4/12/2018  \n",
       "42      $23,199      466.1                         Russia   4/13/2018  \n",
       "43      $15,528      144.5                  United States   4/14/2018  \n",
       "44      $27,255    310.119                          Empty   4/15/2018  \n",
       "45       $8,806     142.46                        Germany   4/16/2018  \n",
       "46       $2,525    104.065                         France   4/17/2018  \n",
       "47       $3,110        453                             US   4/18/2018  \n",
       "48     -$22,355        283                  United States   4/19/2018  \n",
       "49      $15,959        7.4                  United States   4/20/2018  \n",
       "50       $9,863      102.5                         Russia   4/21/2018  "
      ]
     },
     "execution_count": 176,
     "metadata": {},
     "output_type": "execute_result"
    }
   ],
   "source": [
    "df"
   ]
  },
  {
   "cell_type": "code",
   "execution_count": 179,
   "metadata": {},
   "outputs": [],
   "source": [
    "df=df.replace(\"US\",\"United States\")"
   ]
  },
  {
   "cell_type": "code",
   "execution_count": 180,
   "metadata": {},
   "outputs": [
    {
     "data": {
      "text/html": [
       "<div>\n",
       "<style scoped>\n",
       "    .dataframe tbody tr th:only-of-type {\n",
       "        vertical-align: middle;\n",
       "    }\n",
       "\n",
       "    .dataframe tbody tr th {\n",
       "        vertical-align: top;\n",
       "    }\n",
       "\n",
       "    .dataframe thead th {\n",
       "        text-align: right;\n",
       "    }\n",
       "</style>\n",
       "<table border=\"1\" class=\"dataframe\">\n",
       "  <thead>\n",
       "    <tr style=\"text-align: right;\">\n",
       "      <th></th>\n",
       "      <th>Name</th>\n",
       "      <th>Industry</th>\n",
       "      <th>Revenue</th>\n",
       "      <th>Profit</th>\n",
       "      <th>Employees</th>\n",
       "      <th>Country</th>\n",
       "      <th>Date</th>\n",
       "    </tr>\n",
       "    <tr>\n",
       "      <th>Rank</th>\n",
       "      <th></th>\n",
       "      <th></th>\n",
       "      <th></th>\n",
       "      <th></th>\n",
       "      <th></th>\n",
       "      <th></th>\n",
       "      <th></th>\n",
       "    </tr>\n",
       "  </thead>\n",
       "  <tbody>\n",
       "    <tr>\n",
       "      <th>1</th>\n",
       "      <td>Walmart</td>\n",
       "      <td>Retail</td>\n",
       "      <td>$514,405</td>\n",
       "      <td>$6,670</td>\n",
       "      <td>2,200,000</td>\n",
       "      <td>United States</td>\n",
       "      <td>1/2/2012</td>\n",
       "    </tr>\n",
       "    <tr>\n",
       "      <th>2</th>\n",
       "      <td>Sinopec</td>\n",
       "      <td>Oil and gas</td>\n",
       "      <td>$414,649</td>\n",
       "      <td>$5,845</td>\n",
       "      <td>619.151</td>\n",
       "      <td>chn</td>\n",
       "      <td>3/31/2017</td>\n",
       "    </tr>\n",
       "    <tr>\n",
       "      <th>3</th>\n",
       "      <td>Royal Dutch Shell</td>\n",
       "      <td>Oil and gas</td>\n",
       "      <td>$396,556</td>\n",
       "      <td>$23,352</td>\n",
       "      <td>81</td>\n",
       "      <td>Netherlands / United Kingdom</td>\n",
       "      <td>4/5/2019</td>\n",
       "    </tr>\n",
       "    <tr>\n",
       "      <th>4</th>\n",
       "      <td>China National Petroleum</td>\n",
       "      <td>Oil and gas</td>\n",
       "      <td>$392,976</td>\n",
       "      <td>$2,270</td>\n",
       "      <td>1,382,401</td>\n",
       "      <td>china</td>\n",
       "      <td>2/19/2000</td>\n",
       "    </tr>\n",
       "    <tr>\n",
       "      <th>5</th>\n",
       "      <td>State Grid</td>\n",
       "      <td>Electricity</td>\n",
       "      <td>$387,056</td>\n",
       "      <td>$8,174</td>\n",
       "      <td>917.717</td>\n",
       "      <td>Chi  na</td>\n",
       "      <td>11/15/2010</td>\n",
       "    </tr>\n",
       "    <tr>\n",
       "      <th>6</th>\n",
       "      <td>Saudi Aramco</td>\n",
       "      <td>Oil and gas</td>\n",
       "      <td>$355,905</td>\n",
       "      <td>$110,974</td>\n",
       "      <td>76.418</td>\n",
       "      <td>Saudi Arabia</td>\n",
       "      <td>5/20/2018</td>\n",
       "    </tr>\n",
       "    <tr>\n",
       "      <th>7</th>\n",
       "      <td>BP</td>\n",
       "      <td>Oil and gas</td>\n",
       "      <td>$303,738</td>\n",
       "      <td>$9,383</td>\n",
       "      <td>5</td>\n",
       "      <td>United Kingdom</td>\n",
       "      <td>4/19/2019</td>\n",
       "    </tr>\n",
       "    <tr>\n",
       "      <th>8</th>\n",
       "      <td>ExxonMobil</td>\n",
       "      <td>Oil and gas</td>\n",
       "      <td>$290,212</td>\n",
       "      <td>$20,840</td>\n",
       "      <td>71</td>\n",
       "      <td>United States</td>\n",
       "      <td>3/10/2018</td>\n",
       "    </tr>\n",
       "    <tr>\n",
       "      <th>9</th>\n",
       "      <td>Volkswagen</td>\n",
       "      <td>NaN</td>\n",
       "      <td>$278,341</td>\n",
       "      <td>$14,332</td>\n",
       "      <td>664.496</td>\n",
       "      <td>Germany</td>\n",
       "      <td>3/11/2018</td>\n",
       "    </tr>\n",
       "    <tr>\n",
       "      <th>10</th>\n",
       "      <td>Toyota</td>\n",
       "      <td>Automotive</td>\n",
       "      <td>$272,612</td>\n",
       "      <td>$16,982</td>\n",
       "      <td>370.87</td>\n",
       "      <td>Japan</td>\n",
       "      <td>3/12/2018</td>\n",
       "    </tr>\n",
       "    <tr>\n",
       "      <th>11</th>\n",
       "      <td>Apple</td>\n",
       "      <td>Electronics</td>\n",
       "      <td>$265,595</td>\n",
       "      <td>$59,531</td>\n",
       "      <td>132</td>\n",
       "      <td>United States</td>\n",
       "      <td>3/13/2018</td>\n",
       "    </tr>\n",
       "    <tr>\n",
       "      <th>12</th>\n",
       "      <td>Berkshire Hathaway</td>\n",
       "      <td>Financials</td>\n",
       "      <td>$247,837</td>\n",
       "      <td>$4,021</td>\n",
       "      <td>389</td>\n",
       "      <td>United States</td>\n",
       "      <td>3/14/2018</td>\n",
       "    </tr>\n",
       "    <tr>\n",
       "      <th>13</th>\n",
       "      <td>Amazon</td>\n",
       "      <td>Retail</td>\n",
       "      <td>$232,887</td>\n",
       "      <td>$10,073</td>\n",
       "      <td>647</td>\n",
       "      <td>United States</td>\n",
       "      <td>3/15/2018</td>\n",
       "    </tr>\n",
       "    <tr>\n",
       "      <th>14</th>\n",
       "      <td>UnitedHealth</td>\n",
       "      <td>Healthcare</td>\n",
       "      <td>$226,247</td>\n",
       "      <td>$11,986</td>\n",
       "      <td>300</td>\n",
       "      <td>USA</td>\n",
       "      <td>3/16/2018</td>\n",
       "    </tr>\n",
       "    <tr>\n",
       "      <th>15</th>\n",
       "      <td>Samsung Electronics</td>\n",
       "      <td>Electronics</td>\n",
       "      <td>$221,579</td>\n",
       "      <td>$39,895</td>\n",
       "      <td>221.579</td>\n",
       "      <td>South Korea</td>\n",
       "      <td>3/17/2018</td>\n",
       "    </tr>\n",
       "    <tr>\n",
       "      <th>16</th>\n",
       "      <td>Glencore</td>\n",
       "      <td>Commodities</td>\n",
       "      <td>$219,754</td>\n",
       "      <td>$3,408</td>\n",
       "      <td>85.504</td>\n",
       "      <td>Switzerland</td>\n",
       "      <td>3/18/2018</td>\n",
       "    </tr>\n",
       "    <tr>\n",
       "      <th>17</th>\n",
       "      <td>McKesson</td>\n",
       "      <td>Healthcare</td>\n",
       "      <td>$214,319</td>\n",
       "      <td>$34</td>\n",
       "      <td>70</td>\n",
       "      <td>United States</td>\n",
       "      <td>3/19/2018</td>\n",
       "    </tr>\n",
       "    <tr>\n",
       "      <th>18</th>\n",
       "      <td>Daimler</td>\n",
       "      <td>Automotive</td>\n",
       "      <td>$197,515</td>\n",
       "      <td>$8,555</td>\n",
       "      <td>298.683</td>\n",
       "      <td>Germany</td>\n",
       "      <td>3/20/2018</td>\n",
       "    </tr>\n",
       "    <tr>\n",
       "      <th>19</th>\n",
       "      <td>CVS Health</td>\n",
       "      <td>Healthcare</td>\n",
       "      <td>$194,579</td>\n",
       "      <td>-$594</td>\n",
       "      <td>295</td>\n",
       "      <td>United States</td>\n",
       "      <td>NONE</td>\n",
       "    </tr>\n",
       "    <tr>\n",
       "      <th>20</th>\n",
       "      <td>Total</td>\n",
       "      <td>Oil and gas</td>\n",
       "      <td>$184,106</td>\n",
       "      <td>$11,446</td>\n",
       "      <td>104.46</td>\n",
       "      <td>France</td>\n",
       "      <td>3/22/2018</td>\n",
       "    </tr>\n",
       "    <tr>\n",
       "      <th>21</th>\n",
       "      <td>NaN</td>\n",
       "      <td>Construction</td>\n",
       "      <td>$181,524</td>\n",
       "      <td>$3,159</td>\n",
       "      <td>302.827</td>\n",
       "      <td>China</td>\n",
       "      <td>3/23/2018</td>\n",
       "    </tr>\n",
       "    <tr>\n",
       "      <th>22</th>\n",
       "      <td>Trafigura</td>\n",
       "      <td>Commodities</td>\n",
       "      <td>None</td>\n",
       "      <td>$849</td>\n",
       "      <td>4.316</td>\n",
       "      <td>Singapore</td>\n",
       "      <td>3/24/2018</td>\n",
       "    </tr>\n",
       "    <tr>\n",
       "      <th>23</th>\n",
       "      <td>Foxconn</td>\n",
       "      <td>NaN</td>\n",
       "      <td>$175,617</td>\n",
       "      <td>$4,281</td>\n",
       "      <td>667.68</td>\n",
       "      <td>Taiwan</td>\n",
       "      <td>3/25/2018</td>\n",
       "    </tr>\n",
       "    <tr>\n",
       "      <th>24</th>\n",
       "      <td>Exor</td>\n",
       "      <td>Financials</td>\n",
       "      <td>Null</td>\n",
       "      <td>$1,589</td>\n",
       "      <td>314.79</td>\n",
       "      <td>Netherlands</td>\n",
       "      <td>3/26/2018</td>\n",
       "    </tr>\n",
       "    <tr>\n",
       "      <th>25</th>\n",
       "      <td>AT&amp;T</td>\n",
       "      <td>Telecommunications</td>\n",
       "      <td>$170,756</td>\n",
       "      <td>$19,370</td>\n",
       "      <td>254</td>\n",
       "      <td>United States</td>\n",
       "      <td>3/27/2018</td>\n",
       "    </tr>\n",
       "    <tr>\n",
       "      <th>26</th>\n",
       "      <td>ICBC</td>\n",
       "      <td>Financials</td>\n",
       "      <td>$168,979</td>\n",
       "      <td>$45,002</td>\n",
       "      <td>449.296</td>\n",
       "      <td>China</td>\n",
       "      <td>3/28/2018</td>\n",
       "    </tr>\n",
       "    <tr>\n",
       "      <th>27</th>\n",
       "      <td>AmerisourceBergen</td>\n",
       "      <td>Pharmaceutical distribution</td>\n",
       "      <td>$167,939</td>\n",
       "      <td>$1,658</td>\n",
       "      <td>20.5</td>\n",
       "      <td>United States</td>\n",
       "      <td>3/29/2018</td>\n",
       "    </tr>\n",
       "    <tr>\n",
       "      <th>28</th>\n",
       "      <td>Chevron</td>\n",
       "      <td>Oil and gas</td>\n",
       "      <td>$166,339</td>\n",
       "      <td>$14,824</td>\n",
       "      <td>None</td>\n",
       "      <td>United States</td>\n",
       "      <td>3/30/2018</td>\n",
       "    </tr>\n",
       "    <tr>\n",
       "      <th>29</th>\n",
       "      <td>Ping An Insurance</td>\n",
       "      <td>Financials</td>\n",
       "      <td>$163,597</td>\n",
       "      <td>NaN</td>\n",
       "      <td>342.55</td>\n",
       "      <td>China</td>\n",
       "      <td>3/31/2018</td>\n",
       "    </tr>\n",
       "    <tr>\n",
       "      <th>30</th>\n",
       "      <td>Ford</td>\n",
       "      <td>Automotive</td>\n",
       "      <td>$160,338</td>\n",
       "      <td>$3,677</td>\n",
       "      <td>199</td>\n",
       "      <td>United     State</td>\n",
       "      <td>4/1/2018</td>\n",
       "    </tr>\n",
       "    <tr>\n",
       "      <th>31</th>\n",
       "      <td>China Construction Bank</td>\n",
       "      <td>Financials</td>\n",
       "      <td>$151,110</td>\n",
       "      <td>$38,498</td>\n",
       "      <td>366.996</td>\n",
       "      <td>NaN</td>\n",
       "      <td>4/2/2018</td>\n",
       "    </tr>\n",
       "    <tr>\n",
       "      <th>32</th>\n",
       "      <td>General Motors</td>\n",
       "      <td>Automotive</td>\n",
       "      <td>$147,049</td>\n",
       "      <td>$8,014</td>\n",
       "      <td>173</td>\n",
       "      <td>United States</td>\n",
       "      <td>4/3/2018</td>\n",
       "    </tr>\n",
       "    <tr>\n",
       "      <th>33</th>\n",
       "      <td>NaN</td>\n",
       "      <td>Conglomerate</td>\n",
       "      <td>$145,243</td>\n",
       "      <td>$5,328</td>\n",
       "      <td>79.994</td>\n",
       "      <td>Japan</td>\n",
       "      <td>4/4/2018</td>\n",
       "    </tr>\n",
       "    <tr>\n",
       "      <th>34</th>\n",
       "      <td>Honda</td>\n",
       "      <td>Automotive</td>\n",
       "      <td>$143,302</td>\n",
       "      <td>$5,504</td>\n",
       "      <td>219.772</td>\n",
       "      <td>Japan</td>\n",
       "      <td>4/5/2018</td>\n",
       "    </tr>\n",
       "    <tr>\n",
       "      <th>35</th>\n",
       "      <td>Costco</td>\n",
       "      <td>Retail</td>\n",
       "      <td>$141,576</td>\n",
       "      <td>$3,134</td>\n",
       "      <td>194</td>\n",
       "      <td>United States</td>\n",
       "      <td>4/6/2018</td>\n",
       "    </tr>\n",
       "    <tr>\n",
       "      <th>36</th>\n",
       "      <td>Agricultural Bank of China</td>\n",
       "      <td>Financials</td>\n",
       "      <td>$139,523</td>\n",
       "      <td>$30,656</td>\n",
       "      <td>477.526</td>\n",
       "      <td>China</td>\n",
       "      <td>4/7/2018</td>\n",
       "    </tr>\n",
       "    <tr>\n",
       "      <th>37</th>\n",
       "      <td>Alphabet</td>\n",
       "      <td>Internet</td>\n",
       "      <td>$136,819</td>\n",
       "      <td>$30,736</td>\n",
       "      <td>98.771</td>\n",
       "      <td>United States</td>\n",
       "      <td>4/8/2018</td>\n",
       "    </tr>\n",
       "    <tr>\n",
       "      <th>38</th>\n",
       "      <td>Cardinal Health</td>\n",
       "      <td>Pharmaceutical distribution</td>\n",
       "      <td>$136,809</td>\n",
       "      <td>$256</td>\n",
       "      <td>50.2</td>\n",
       "      <td>usa</td>\n",
       "      <td>4/9/2018</td>\n",
       "    </tr>\n",
       "    <tr>\n",
       "      <th>39</th>\n",
       "      <td>SAIC Motor</td>\n",
       "      <td>Automotive</td>\n",
       "      <td>$136,392</td>\n",
       "      <td>$5,443</td>\n",
       "      <td>147.738</td>\n",
       "      <td>China</td>\n",
       "      <td>4/10/2018</td>\n",
       "    </tr>\n",
       "    <tr>\n",
       "      <th>40</th>\n",
       "      <td>Walgreens Boots Alliance</td>\n",
       "      <td>Retail</td>\n",
       "      <td>$131,537</td>\n",
       "      <td>$5,024</td>\n",
       "      <td>299</td>\n",
       "      <td>United States</td>\n",
       "      <td>4/11/2018</td>\n",
       "    </tr>\n",
       "    <tr>\n",
       "      <th>41</th>\n",
       "      <td>JPMorgan Chase</td>\n",
       "      <td>Financials</td>\n",
       "      <td>$131,412</td>\n",
       "      <td>$32,474</td>\n",
       "      <td>256.105</td>\n",
       "      <td>United States</td>\n",
       "      <td>4/12/2018</td>\n",
       "    </tr>\n",
       "    <tr>\n",
       "      <th>42</th>\n",
       "      <td>Gazprom</td>\n",
       "      <td>Oil and gas</td>\n",
       "      <td>$131,302</td>\n",
       "      <td>$23,199</td>\n",
       "      <td>466.1</td>\n",
       "      <td>Russia</td>\n",
       "      <td>4/13/2018</td>\n",
       "    </tr>\n",
       "    <tr>\n",
       "      <th>43</th>\n",
       "      <td>Verizon</td>\n",
       "      <td>NaN</td>\n",
       "      <td>$130,863</td>\n",
       "      <td>$15,528</td>\n",
       "      <td>144.5</td>\n",
       "      <td>United States</td>\n",
       "      <td>4/14/2018</td>\n",
       "    </tr>\n",
       "    <tr>\n",
       "      <th>44</th>\n",
       "      <td>Bank of China</td>\n",
       "      <td>Financials</td>\n",
       "      <td>$127,714</td>\n",
       "      <td>$27,255</td>\n",
       "      <td>310.119</td>\n",
       "      <td>Empty</td>\n",
       "      <td>4/15/2018</td>\n",
       "    </tr>\n",
       "    <tr>\n",
       "      <th>45</th>\n",
       "      <td>Allianz</td>\n",
       "      <td>Financials</td>\n",
       "      <td>$126,779</td>\n",
       "      <td>$8,806</td>\n",
       "      <td>142.46</td>\n",
       "      <td>Germany</td>\n",
       "      <td>4/16/2018</td>\n",
       "    </tr>\n",
       "    <tr>\n",
       "      <th>46</th>\n",
       "      <td>AXA</td>\n",
       "      <td>Financials</td>\n",
       "      <td>$125,578</td>\n",
       "      <td>$2,525</td>\n",
       "      <td>104.065</td>\n",
       "      <td>France</td>\n",
       "      <td>4/17/2018</td>\n",
       "    </tr>\n",
       "    <tr>\n",
       "      <th>47</th>\n",
       "      <td>Kroger</td>\n",
       "      <td>NaN</td>\n",
       "      <td>$121,162</td>\n",
       "      <td>$3,110</td>\n",
       "      <td>453</td>\n",
       "      <td>United States</td>\n",
       "      <td>4/18/2018</td>\n",
       "    </tr>\n",
       "    <tr>\n",
       "      <th>48</th>\n",
       "      <td>General Electric</td>\n",
       "      <td>Conglomerate</td>\n",
       "      <td>$120,268</td>\n",
       "      <td>-$22,355</td>\n",
       "      <td>283</td>\n",
       "      <td>United States</td>\n",
       "      <td>4/19/2018</td>\n",
       "    </tr>\n",
       "    <tr>\n",
       "      <th>49</th>\n",
       "      <td>Fannie Mae</td>\n",
       "      <td>Financials</td>\n",
       "      <td>Nothing</td>\n",
       "      <td>$15,959</td>\n",
       "      <td>7.4</td>\n",
       "      <td>United States</td>\n",
       "      <td>4/20/2018</td>\n",
       "    </tr>\n",
       "    <tr>\n",
       "      <th>50</th>\n",
       "      <td>Lukoil</td>\n",
       "      <td>Oil and gas</td>\n",
       "      <td>$119,145</td>\n",
       "      <td>$9,863</td>\n",
       "      <td>102.5</td>\n",
       "      <td>Russia</td>\n",
       "      <td>4/21/2018</td>\n",
       "    </tr>\n",
       "  </tbody>\n",
       "</table>\n",
       "</div>"
      ],
      "text/plain": [
       "                            Name                     Industry    Revenue  \\\n",
       "Rank                                                                       \n",
       "1                        Walmart                       Retail  $514,405    \n",
       "2                        Sinopec                  Oil and gas  $414,649    \n",
       "3              Royal Dutch Shell                  Oil and gas  $396,556    \n",
       "4       China National Petroleum                  Oil and gas  $392,976    \n",
       "5                     State Grid                  Electricity  $387,056    \n",
       "6                   Saudi Aramco                  Oil and gas  $355,905    \n",
       "7                             BP                  Oil and gas  $303,738    \n",
       "8                     ExxonMobil                  Oil and gas  $290,212    \n",
       "9                     Volkswagen                          NaN  $278,341    \n",
       "10                        Toyota                   Automotive  $272,612    \n",
       "11                         Apple                  Electronics  $265,595    \n",
       "12            Berkshire Hathaway                   Financials  $247,837    \n",
       "13                        Amazon                       Retail  $232,887    \n",
       "14                  UnitedHealth                   Healthcare  $226,247    \n",
       "15           Samsung Electronics                  Electronics  $221,579    \n",
       "16                      Glencore                  Commodities  $219,754    \n",
       "17                      McKesson                   Healthcare  $214,319    \n",
       "18                       Daimler                   Automotive  $197,515    \n",
       "19                    CVS Health                   Healthcare  $194,579    \n",
       "20                         Total                  Oil and gas  $184,106    \n",
       "21                           NaN                 Construction  $181,524    \n",
       "22                     Trafigura                  Commodities       None   \n",
       "23                       Foxconn                          NaN  $175,617    \n",
       "24                          Exor                   Financials       Null   \n",
       "25                          AT&T           Telecommunications  $170,756    \n",
       "26                          ICBC                   Financials  $168,979    \n",
       "27             AmerisourceBergen  Pharmaceutical distribution  $167,939    \n",
       "28                       Chevron                  Oil and gas  $166,339    \n",
       "29             Ping An Insurance                   Financials  $163,597    \n",
       "30                          Ford                   Automotive  $160,338    \n",
       "31       China Construction Bank                   Financials  $151,110    \n",
       "32                General Motors                   Automotive  $147,049    \n",
       "33                           NaN                 Conglomerate  $145,243    \n",
       "34                         Honda                   Automotive  $143,302    \n",
       "35                        Costco                       Retail  $141,576    \n",
       "36    Agricultural Bank of China                   Financials  $139,523    \n",
       "37                      Alphabet                     Internet  $136,819    \n",
       "38               Cardinal Health  Pharmaceutical distribution  $136,809    \n",
       "39                    SAIC Motor                   Automotive  $136,392    \n",
       "40      Walgreens Boots Alliance                       Retail  $131,537    \n",
       "41                JPMorgan Chase                   Financials  $131,412    \n",
       "42                       Gazprom                  Oil and gas  $131,302    \n",
       "43                       Verizon                          NaN  $130,863    \n",
       "44                 Bank of China                   Financials  $127,714    \n",
       "45                       Allianz                   Financials  $126,779    \n",
       "46                           AXA                   Financials  $125,578    \n",
       "47                        Kroger                          NaN  $121,162    \n",
       "48              General Electric                 Conglomerate  $120,268    \n",
       "49                    Fannie Mae                   Financials    Nothing   \n",
       "50                        Lukoil                  Oil and gas  $119,145    \n",
       "\n",
       "         Profit  Employees                        Country        Date  \n",
       "Rank                                                                   \n",
       "1        $6,670  2,200,000                  United States    1/2/2012  \n",
       "2        $5,845    619.151                            chn   3/31/2017  \n",
       "3       $23,352         81   Netherlands / United Kingdom    4/5/2019  \n",
       "4        $2,270  1,382,401                          china   2/19/2000  \n",
       "5        $8,174    917.717                        Chi  na  11/15/2010  \n",
       "6      $110,974     76.418                   Saudi Arabia   5/20/2018  \n",
       "7        $9,383          5                 United Kingdom   4/19/2019  \n",
       "8       $20,840         71                  United States   3/10/2018  \n",
       "9       $14,332    664.496                        Germany   3/11/2018  \n",
       "10      $16,982     370.87                          Japan   3/12/2018  \n",
       "11      $59,531        132                  United States   3/13/2018  \n",
       "12       $4,021        389                  United States   3/14/2018  \n",
       "13      $10,073        647                  United States   3/15/2018  \n",
       "14      $11,986        300                            USA   3/16/2018  \n",
       "15      $39,895    221.579                    South Korea   3/17/2018  \n",
       "16       $3,408     85.504                    Switzerland   3/18/2018  \n",
       "17          $34         70                  United States   3/19/2018  \n",
       "18       $8,555    298.683                        Germany   3/20/2018  \n",
       "19        -$594        295                  United States        NONE  \n",
       "20      $11,446     104.46                         France   3/22/2018  \n",
       "21       $3,159    302.827                          China   3/23/2018  \n",
       "22         $849      4.316                      Singapore   3/24/2018  \n",
       "23       $4,281     667.68                         Taiwan   3/25/2018  \n",
       "24       $1,589     314.79                    Netherlands   3/26/2018  \n",
       "25      $19,370        254                  United States   3/27/2018  \n",
       "26      $45,002    449.296                          China   3/28/2018  \n",
       "27       $1,658       20.5                  United States   3/29/2018  \n",
       "28      $14,824       None                  United States   3/30/2018  \n",
       "29          NaN     342.55                          China   3/31/2018  \n",
       "30       $3,677        199               United     State    4/1/2018  \n",
       "31      $38,498    366.996                            NaN    4/2/2018  \n",
       "32       $8,014        173                  United States    4/3/2018  \n",
       "33       $5,328     79.994                          Japan    4/4/2018  \n",
       "34       $5,504    219.772                          Japan    4/5/2018  \n",
       "35       $3,134        194                  United States    4/6/2018  \n",
       "36      $30,656    477.526                          China    4/7/2018  \n",
       "37      $30,736     98.771                  United States    4/8/2018  \n",
       "38         $256       50.2                            usa    4/9/2018  \n",
       "39       $5,443    147.738                          China   4/10/2018  \n",
       "40       $5,024        299                  United States   4/11/2018  \n",
       "41      $32,474    256.105                  United States   4/12/2018  \n",
       "42      $23,199      466.1                         Russia   4/13/2018  \n",
       "43      $15,528      144.5                  United States   4/14/2018  \n",
       "44      $27,255    310.119                          Empty   4/15/2018  \n",
       "45       $8,806     142.46                        Germany   4/16/2018  \n",
       "46       $2,525    104.065                         France   4/17/2018  \n",
       "47       $3,110        453                  United States   4/18/2018  \n",
       "48     -$22,355        283                  United States   4/19/2018  \n",
       "49      $15,959        7.4                  United States   4/20/2018  \n",
       "50       $9,863      102.5                         Russia   4/21/2018  "
      ]
     },
     "execution_count": 180,
     "metadata": {},
     "output_type": "execute_result"
    }
   ],
   "source": [
    "df"
   ]
  },
  {
   "cell_type": "code",
   "execution_count": 182,
   "metadata": {},
   "outputs": [
    {
     "data": {
      "text/plain": [
       "array(['\\xa0United States', 'chn', '\\xa0Netherlands / United Kingdom',\n",
       "       'china', 'Chi  na', '\\xa0Saudi Arabia', '\\xa0United Kingdom',\n",
       "       '\\xa0Germany', '\\xa0Japan', 'United States', 'USA',\n",
       "       '\\xa0South Korea', '\\xa0Switzerland', '\\xa0France', '\\xa0China',\n",
       "       '\\xa0Singapore', '\\xa0Taiwan', '\\xa0Netherlands',\n",
       "       'United     State', nan, 'usa', '\\xa0Russia', 'Empty'],\n",
       "      dtype=object)"
      ]
     },
     "execution_count": 182,
     "metadata": {},
     "output_type": "execute_result"
    }
   ],
   "source": [
    "df[\"Country\"].unique()"
   ]
  },
  {
   "cell_type": "code",
   "execution_count": 194,
   "metadata": {},
   "outputs": [],
   "source": [
    "df.loc[:,\"Country\"].replace(\"([Cc]hn)|(.*[Cc]hi *na)\",\"China\",regex=True,inplace=True)\n",
    "#chn\n",
    "#chi    na\n",
    "#\\xa0China\n",
    "# reformat menjadi China\n",
    "#([Cc]hn) -> (Chn) | (chn)"
   ]
  },
  {
   "cell_type": "code",
   "execution_count": 195,
   "metadata": {},
   "outputs": [
    {
     "data": {
      "text/html": [
       "<div>\n",
       "<style scoped>\n",
       "    .dataframe tbody tr th:only-of-type {\n",
       "        vertical-align: middle;\n",
       "    }\n",
       "\n",
       "    .dataframe tbody tr th {\n",
       "        vertical-align: top;\n",
       "    }\n",
       "\n",
       "    .dataframe thead th {\n",
       "        text-align: right;\n",
       "    }\n",
       "</style>\n",
       "<table border=\"1\" class=\"dataframe\">\n",
       "  <thead>\n",
       "    <tr style=\"text-align: right;\">\n",
       "      <th></th>\n",
       "      <th>Name</th>\n",
       "      <th>Industry</th>\n",
       "      <th>Revenue</th>\n",
       "      <th>Profit</th>\n",
       "      <th>Employees</th>\n",
       "      <th>Country</th>\n",
       "      <th>Date</th>\n",
       "    </tr>\n",
       "    <tr>\n",
       "      <th>Rank</th>\n",
       "      <th></th>\n",
       "      <th></th>\n",
       "      <th></th>\n",
       "      <th></th>\n",
       "      <th></th>\n",
       "      <th></th>\n",
       "      <th></th>\n",
       "    </tr>\n",
       "  </thead>\n",
       "  <tbody>\n",
       "    <tr>\n",
       "      <th>1</th>\n",
       "      <td>Walmart</td>\n",
       "      <td>Retail</td>\n",
       "      <td>$514,405</td>\n",
       "      <td>$6,670</td>\n",
       "      <td>2,200,000</td>\n",
       "      <td>United States</td>\n",
       "      <td>1/2/2012</td>\n",
       "    </tr>\n",
       "    <tr>\n",
       "      <th>2</th>\n",
       "      <td>Sinopec</td>\n",
       "      <td>Oil and gas</td>\n",
       "      <td>$414,649</td>\n",
       "      <td>$5,845</td>\n",
       "      <td>619.151</td>\n",
       "      <td>China</td>\n",
       "      <td>3/31/2017</td>\n",
       "    </tr>\n",
       "    <tr>\n",
       "      <th>3</th>\n",
       "      <td>Royal Dutch Shell</td>\n",
       "      <td>Oil and gas</td>\n",
       "      <td>$396,556</td>\n",
       "      <td>$23,352</td>\n",
       "      <td>81</td>\n",
       "      <td>Netherlands / United Kingdom</td>\n",
       "      <td>4/5/2019</td>\n",
       "    </tr>\n",
       "    <tr>\n",
       "      <th>4</th>\n",
       "      <td>China National Petroleum</td>\n",
       "      <td>Oil and gas</td>\n",
       "      <td>$392,976</td>\n",
       "      <td>$2,270</td>\n",
       "      <td>1,382,401</td>\n",
       "      <td>China</td>\n",
       "      <td>2/19/2000</td>\n",
       "    </tr>\n",
       "    <tr>\n",
       "      <th>5</th>\n",
       "      <td>State Grid</td>\n",
       "      <td>Electricity</td>\n",
       "      <td>$387,056</td>\n",
       "      <td>$8,174</td>\n",
       "      <td>917.717</td>\n",
       "      <td>China</td>\n",
       "      <td>11/15/2010</td>\n",
       "    </tr>\n",
       "    <tr>\n",
       "      <th>6</th>\n",
       "      <td>Saudi Aramco</td>\n",
       "      <td>Oil and gas</td>\n",
       "      <td>$355,905</td>\n",
       "      <td>$110,974</td>\n",
       "      <td>76.418</td>\n",
       "      <td>Saudi Arabia</td>\n",
       "      <td>5/20/2018</td>\n",
       "    </tr>\n",
       "    <tr>\n",
       "      <th>7</th>\n",
       "      <td>BP</td>\n",
       "      <td>Oil and gas</td>\n",
       "      <td>$303,738</td>\n",
       "      <td>$9,383</td>\n",
       "      <td>5</td>\n",
       "      <td>United Kingdom</td>\n",
       "      <td>4/19/2019</td>\n",
       "    </tr>\n",
       "    <tr>\n",
       "      <th>8</th>\n",
       "      <td>ExxonMobil</td>\n",
       "      <td>Oil and gas</td>\n",
       "      <td>$290,212</td>\n",
       "      <td>$20,840</td>\n",
       "      <td>71</td>\n",
       "      <td>United States</td>\n",
       "      <td>3/10/2018</td>\n",
       "    </tr>\n",
       "    <tr>\n",
       "      <th>9</th>\n",
       "      <td>Volkswagen</td>\n",
       "      <td>NaN</td>\n",
       "      <td>$278,341</td>\n",
       "      <td>$14,332</td>\n",
       "      <td>664.496</td>\n",
       "      <td>Germany</td>\n",
       "      <td>3/11/2018</td>\n",
       "    </tr>\n",
       "    <tr>\n",
       "      <th>10</th>\n",
       "      <td>Toyota</td>\n",
       "      <td>Automotive</td>\n",
       "      <td>$272,612</td>\n",
       "      <td>$16,982</td>\n",
       "      <td>370.87</td>\n",
       "      <td>Japan</td>\n",
       "      <td>3/12/2018</td>\n",
       "    </tr>\n",
       "    <tr>\n",
       "      <th>11</th>\n",
       "      <td>Apple</td>\n",
       "      <td>Electronics</td>\n",
       "      <td>$265,595</td>\n",
       "      <td>$59,531</td>\n",
       "      <td>132</td>\n",
       "      <td>United States</td>\n",
       "      <td>3/13/2018</td>\n",
       "    </tr>\n",
       "    <tr>\n",
       "      <th>12</th>\n",
       "      <td>Berkshire Hathaway</td>\n",
       "      <td>Financials</td>\n",
       "      <td>$247,837</td>\n",
       "      <td>$4,021</td>\n",
       "      <td>389</td>\n",
       "      <td>United States</td>\n",
       "      <td>3/14/2018</td>\n",
       "    </tr>\n",
       "    <tr>\n",
       "      <th>13</th>\n",
       "      <td>Amazon</td>\n",
       "      <td>Retail</td>\n",
       "      <td>$232,887</td>\n",
       "      <td>$10,073</td>\n",
       "      <td>647</td>\n",
       "      <td>United States</td>\n",
       "      <td>3/15/2018</td>\n",
       "    </tr>\n",
       "    <tr>\n",
       "      <th>14</th>\n",
       "      <td>UnitedHealth</td>\n",
       "      <td>Healthcare</td>\n",
       "      <td>$226,247</td>\n",
       "      <td>$11,986</td>\n",
       "      <td>300</td>\n",
       "      <td>USA</td>\n",
       "      <td>3/16/2018</td>\n",
       "    </tr>\n",
       "    <tr>\n",
       "      <th>15</th>\n",
       "      <td>Samsung Electronics</td>\n",
       "      <td>Electronics</td>\n",
       "      <td>$221,579</td>\n",
       "      <td>$39,895</td>\n",
       "      <td>221.579</td>\n",
       "      <td>South Korea</td>\n",
       "      <td>3/17/2018</td>\n",
       "    </tr>\n",
       "    <tr>\n",
       "      <th>16</th>\n",
       "      <td>Glencore</td>\n",
       "      <td>Commodities</td>\n",
       "      <td>$219,754</td>\n",
       "      <td>$3,408</td>\n",
       "      <td>85.504</td>\n",
       "      <td>Switzerland</td>\n",
       "      <td>3/18/2018</td>\n",
       "    </tr>\n",
       "    <tr>\n",
       "      <th>17</th>\n",
       "      <td>McKesson</td>\n",
       "      <td>Healthcare</td>\n",
       "      <td>$214,319</td>\n",
       "      <td>$34</td>\n",
       "      <td>70</td>\n",
       "      <td>United States</td>\n",
       "      <td>3/19/2018</td>\n",
       "    </tr>\n",
       "    <tr>\n",
       "      <th>18</th>\n",
       "      <td>Daimler</td>\n",
       "      <td>Automotive</td>\n",
       "      <td>$197,515</td>\n",
       "      <td>$8,555</td>\n",
       "      <td>298.683</td>\n",
       "      <td>Germany</td>\n",
       "      <td>3/20/2018</td>\n",
       "    </tr>\n",
       "    <tr>\n",
       "      <th>19</th>\n",
       "      <td>CVS Health</td>\n",
       "      <td>Healthcare</td>\n",
       "      <td>$194,579</td>\n",
       "      <td>-$594</td>\n",
       "      <td>295</td>\n",
       "      <td>United States</td>\n",
       "      <td>NONE</td>\n",
       "    </tr>\n",
       "    <tr>\n",
       "      <th>20</th>\n",
       "      <td>Total</td>\n",
       "      <td>Oil and gas</td>\n",
       "      <td>$184,106</td>\n",
       "      <td>$11,446</td>\n",
       "      <td>104.46</td>\n",
       "      <td>France</td>\n",
       "      <td>3/22/2018</td>\n",
       "    </tr>\n",
       "    <tr>\n",
       "      <th>21</th>\n",
       "      <td>NaN</td>\n",
       "      <td>Construction</td>\n",
       "      <td>$181,524</td>\n",
       "      <td>$3,159</td>\n",
       "      <td>302.827</td>\n",
       "      <td>China</td>\n",
       "      <td>3/23/2018</td>\n",
       "    </tr>\n",
       "    <tr>\n",
       "      <th>22</th>\n",
       "      <td>Trafigura</td>\n",
       "      <td>Commodities</td>\n",
       "      <td>None</td>\n",
       "      <td>$849</td>\n",
       "      <td>4.316</td>\n",
       "      <td>Singapore</td>\n",
       "      <td>3/24/2018</td>\n",
       "    </tr>\n",
       "    <tr>\n",
       "      <th>23</th>\n",
       "      <td>Foxconn</td>\n",
       "      <td>NaN</td>\n",
       "      <td>$175,617</td>\n",
       "      <td>$4,281</td>\n",
       "      <td>667.68</td>\n",
       "      <td>Taiwan</td>\n",
       "      <td>3/25/2018</td>\n",
       "    </tr>\n",
       "    <tr>\n",
       "      <th>24</th>\n",
       "      <td>Exor</td>\n",
       "      <td>Financials</td>\n",
       "      <td>Null</td>\n",
       "      <td>$1,589</td>\n",
       "      <td>314.79</td>\n",
       "      <td>Netherlands</td>\n",
       "      <td>3/26/2018</td>\n",
       "    </tr>\n",
       "    <tr>\n",
       "      <th>25</th>\n",
       "      <td>AT&amp;T</td>\n",
       "      <td>Telecommunications</td>\n",
       "      <td>$170,756</td>\n",
       "      <td>$19,370</td>\n",
       "      <td>254</td>\n",
       "      <td>United States</td>\n",
       "      <td>3/27/2018</td>\n",
       "    </tr>\n",
       "    <tr>\n",
       "      <th>26</th>\n",
       "      <td>ICBC</td>\n",
       "      <td>Financials</td>\n",
       "      <td>$168,979</td>\n",
       "      <td>$45,002</td>\n",
       "      <td>449.296</td>\n",
       "      <td>China</td>\n",
       "      <td>3/28/2018</td>\n",
       "    </tr>\n",
       "    <tr>\n",
       "      <th>27</th>\n",
       "      <td>AmerisourceBergen</td>\n",
       "      <td>Pharmaceutical distribution</td>\n",
       "      <td>$167,939</td>\n",
       "      <td>$1,658</td>\n",
       "      <td>20.5</td>\n",
       "      <td>United States</td>\n",
       "      <td>3/29/2018</td>\n",
       "    </tr>\n",
       "    <tr>\n",
       "      <th>28</th>\n",
       "      <td>Chevron</td>\n",
       "      <td>Oil and gas</td>\n",
       "      <td>$166,339</td>\n",
       "      <td>$14,824</td>\n",
       "      <td>None</td>\n",
       "      <td>United States</td>\n",
       "      <td>3/30/2018</td>\n",
       "    </tr>\n",
       "    <tr>\n",
       "      <th>29</th>\n",
       "      <td>Ping An Insurance</td>\n",
       "      <td>Financials</td>\n",
       "      <td>$163,597</td>\n",
       "      <td>NaN</td>\n",
       "      <td>342.55</td>\n",
       "      <td>China</td>\n",
       "      <td>3/31/2018</td>\n",
       "    </tr>\n",
       "    <tr>\n",
       "      <th>30</th>\n",
       "      <td>Ford</td>\n",
       "      <td>Automotive</td>\n",
       "      <td>$160,338</td>\n",
       "      <td>$3,677</td>\n",
       "      <td>199</td>\n",
       "      <td>United     State</td>\n",
       "      <td>4/1/2018</td>\n",
       "    </tr>\n",
       "    <tr>\n",
       "      <th>31</th>\n",
       "      <td>China Construction Bank</td>\n",
       "      <td>Financials</td>\n",
       "      <td>$151,110</td>\n",
       "      <td>$38,498</td>\n",
       "      <td>366.996</td>\n",
       "      <td>NaN</td>\n",
       "      <td>4/2/2018</td>\n",
       "    </tr>\n",
       "    <tr>\n",
       "      <th>32</th>\n",
       "      <td>General Motors</td>\n",
       "      <td>Automotive</td>\n",
       "      <td>$147,049</td>\n",
       "      <td>$8,014</td>\n",
       "      <td>173</td>\n",
       "      <td>United States</td>\n",
       "      <td>4/3/2018</td>\n",
       "    </tr>\n",
       "    <tr>\n",
       "      <th>33</th>\n",
       "      <td>NaN</td>\n",
       "      <td>Conglomerate</td>\n",
       "      <td>$145,243</td>\n",
       "      <td>$5,328</td>\n",
       "      <td>79.994</td>\n",
       "      <td>Japan</td>\n",
       "      <td>4/4/2018</td>\n",
       "    </tr>\n",
       "    <tr>\n",
       "      <th>34</th>\n",
       "      <td>Honda</td>\n",
       "      <td>Automotive</td>\n",
       "      <td>$143,302</td>\n",
       "      <td>$5,504</td>\n",
       "      <td>219.772</td>\n",
       "      <td>Japan</td>\n",
       "      <td>4/5/2018</td>\n",
       "    </tr>\n",
       "    <tr>\n",
       "      <th>35</th>\n",
       "      <td>Costco</td>\n",
       "      <td>Retail</td>\n",
       "      <td>$141,576</td>\n",
       "      <td>$3,134</td>\n",
       "      <td>194</td>\n",
       "      <td>United States</td>\n",
       "      <td>4/6/2018</td>\n",
       "    </tr>\n",
       "    <tr>\n",
       "      <th>36</th>\n",
       "      <td>Agricultural Bank of China</td>\n",
       "      <td>Financials</td>\n",
       "      <td>$139,523</td>\n",
       "      <td>$30,656</td>\n",
       "      <td>477.526</td>\n",
       "      <td>China</td>\n",
       "      <td>4/7/2018</td>\n",
       "    </tr>\n",
       "    <tr>\n",
       "      <th>37</th>\n",
       "      <td>Alphabet</td>\n",
       "      <td>Internet</td>\n",
       "      <td>$136,819</td>\n",
       "      <td>$30,736</td>\n",
       "      <td>98.771</td>\n",
       "      <td>United States</td>\n",
       "      <td>4/8/2018</td>\n",
       "    </tr>\n",
       "    <tr>\n",
       "      <th>38</th>\n",
       "      <td>Cardinal Health</td>\n",
       "      <td>Pharmaceutical distribution</td>\n",
       "      <td>$136,809</td>\n",
       "      <td>$256</td>\n",
       "      <td>50.2</td>\n",
       "      <td>usa</td>\n",
       "      <td>4/9/2018</td>\n",
       "    </tr>\n",
       "    <tr>\n",
       "      <th>39</th>\n",
       "      <td>SAIC Motor</td>\n",
       "      <td>Automotive</td>\n",
       "      <td>$136,392</td>\n",
       "      <td>$5,443</td>\n",
       "      <td>147.738</td>\n",
       "      <td>China</td>\n",
       "      <td>4/10/2018</td>\n",
       "    </tr>\n",
       "    <tr>\n",
       "      <th>40</th>\n",
       "      <td>Walgreens Boots Alliance</td>\n",
       "      <td>Retail</td>\n",
       "      <td>$131,537</td>\n",
       "      <td>$5,024</td>\n",
       "      <td>299</td>\n",
       "      <td>United States</td>\n",
       "      <td>4/11/2018</td>\n",
       "    </tr>\n",
       "    <tr>\n",
       "      <th>41</th>\n",
       "      <td>JPMorgan Chase</td>\n",
       "      <td>Financials</td>\n",
       "      <td>$131,412</td>\n",
       "      <td>$32,474</td>\n",
       "      <td>256.105</td>\n",
       "      <td>United States</td>\n",
       "      <td>4/12/2018</td>\n",
       "    </tr>\n",
       "    <tr>\n",
       "      <th>42</th>\n",
       "      <td>Gazprom</td>\n",
       "      <td>Oil and gas</td>\n",
       "      <td>$131,302</td>\n",
       "      <td>$23,199</td>\n",
       "      <td>466.1</td>\n",
       "      <td>Russia</td>\n",
       "      <td>4/13/2018</td>\n",
       "    </tr>\n",
       "    <tr>\n",
       "      <th>43</th>\n",
       "      <td>Verizon</td>\n",
       "      <td>NaN</td>\n",
       "      <td>$130,863</td>\n",
       "      <td>$15,528</td>\n",
       "      <td>144.5</td>\n",
       "      <td>United States</td>\n",
       "      <td>4/14/2018</td>\n",
       "    </tr>\n",
       "    <tr>\n",
       "      <th>44</th>\n",
       "      <td>Bank of China</td>\n",
       "      <td>Financials</td>\n",
       "      <td>$127,714</td>\n",
       "      <td>$27,255</td>\n",
       "      <td>310.119</td>\n",
       "      <td>Empty</td>\n",
       "      <td>4/15/2018</td>\n",
       "    </tr>\n",
       "    <tr>\n",
       "      <th>45</th>\n",
       "      <td>Allianz</td>\n",
       "      <td>Financials</td>\n",
       "      <td>$126,779</td>\n",
       "      <td>$8,806</td>\n",
       "      <td>142.46</td>\n",
       "      <td>Germany</td>\n",
       "      <td>4/16/2018</td>\n",
       "    </tr>\n",
       "    <tr>\n",
       "      <th>46</th>\n",
       "      <td>AXA</td>\n",
       "      <td>Financials</td>\n",
       "      <td>$125,578</td>\n",
       "      <td>$2,525</td>\n",
       "      <td>104.065</td>\n",
       "      <td>France</td>\n",
       "      <td>4/17/2018</td>\n",
       "    </tr>\n",
       "    <tr>\n",
       "      <th>47</th>\n",
       "      <td>Kroger</td>\n",
       "      <td>NaN</td>\n",
       "      <td>$121,162</td>\n",
       "      <td>$3,110</td>\n",
       "      <td>453</td>\n",
       "      <td>United States</td>\n",
       "      <td>4/18/2018</td>\n",
       "    </tr>\n",
       "    <tr>\n",
       "      <th>48</th>\n",
       "      <td>General Electric</td>\n",
       "      <td>Conglomerate</td>\n",
       "      <td>$120,268</td>\n",
       "      <td>-$22,355</td>\n",
       "      <td>283</td>\n",
       "      <td>United States</td>\n",
       "      <td>4/19/2018</td>\n",
       "    </tr>\n",
       "    <tr>\n",
       "      <th>49</th>\n",
       "      <td>Fannie Mae</td>\n",
       "      <td>Financials</td>\n",
       "      <td>Nothing</td>\n",
       "      <td>$15,959</td>\n",
       "      <td>7.4</td>\n",
       "      <td>United States</td>\n",
       "      <td>4/20/2018</td>\n",
       "    </tr>\n",
       "    <tr>\n",
       "      <th>50</th>\n",
       "      <td>Lukoil</td>\n",
       "      <td>Oil and gas</td>\n",
       "      <td>$119,145</td>\n",
       "      <td>$9,863</td>\n",
       "      <td>102.5</td>\n",
       "      <td>Russia</td>\n",
       "      <td>4/21/2018</td>\n",
       "    </tr>\n",
       "  </tbody>\n",
       "</table>\n",
       "</div>"
      ],
      "text/plain": [
       "                            Name                     Industry    Revenue  \\\n",
       "Rank                                                                       \n",
       "1                        Walmart                       Retail  $514,405    \n",
       "2                        Sinopec                  Oil and gas  $414,649    \n",
       "3              Royal Dutch Shell                  Oil and gas  $396,556    \n",
       "4       China National Petroleum                  Oil and gas  $392,976    \n",
       "5                     State Grid                  Electricity  $387,056    \n",
       "6                   Saudi Aramco                  Oil and gas  $355,905    \n",
       "7                             BP                  Oil and gas  $303,738    \n",
       "8                     ExxonMobil                  Oil and gas  $290,212    \n",
       "9                     Volkswagen                          NaN  $278,341    \n",
       "10                        Toyota                   Automotive  $272,612    \n",
       "11                         Apple                  Electronics  $265,595    \n",
       "12            Berkshire Hathaway                   Financials  $247,837    \n",
       "13                        Amazon                       Retail  $232,887    \n",
       "14                  UnitedHealth                   Healthcare  $226,247    \n",
       "15           Samsung Electronics                  Electronics  $221,579    \n",
       "16                      Glencore                  Commodities  $219,754    \n",
       "17                      McKesson                   Healthcare  $214,319    \n",
       "18                       Daimler                   Automotive  $197,515    \n",
       "19                    CVS Health                   Healthcare  $194,579    \n",
       "20                         Total                  Oil and gas  $184,106    \n",
       "21                           NaN                 Construction  $181,524    \n",
       "22                     Trafigura                  Commodities       None   \n",
       "23                       Foxconn                          NaN  $175,617    \n",
       "24                          Exor                   Financials       Null   \n",
       "25                          AT&T           Telecommunications  $170,756    \n",
       "26                          ICBC                   Financials  $168,979    \n",
       "27             AmerisourceBergen  Pharmaceutical distribution  $167,939    \n",
       "28                       Chevron                  Oil and gas  $166,339    \n",
       "29             Ping An Insurance                   Financials  $163,597    \n",
       "30                          Ford                   Automotive  $160,338    \n",
       "31       China Construction Bank                   Financials  $151,110    \n",
       "32                General Motors                   Automotive  $147,049    \n",
       "33                           NaN                 Conglomerate  $145,243    \n",
       "34                         Honda                   Automotive  $143,302    \n",
       "35                        Costco                       Retail  $141,576    \n",
       "36    Agricultural Bank of China                   Financials  $139,523    \n",
       "37                      Alphabet                     Internet  $136,819    \n",
       "38               Cardinal Health  Pharmaceutical distribution  $136,809    \n",
       "39                    SAIC Motor                   Automotive  $136,392    \n",
       "40      Walgreens Boots Alliance                       Retail  $131,537    \n",
       "41                JPMorgan Chase                   Financials  $131,412    \n",
       "42                       Gazprom                  Oil and gas  $131,302    \n",
       "43                       Verizon                          NaN  $130,863    \n",
       "44                 Bank of China                   Financials  $127,714    \n",
       "45                       Allianz                   Financials  $126,779    \n",
       "46                           AXA                   Financials  $125,578    \n",
       "47                        Kroger                          NaN  $121,162    \n",
       "48              General Electric                 Conglomerate  $120,268    \n",
       "49                    Fannie Mae                   Financials    Nothing   \n",
       "50                        Lukoil                  Oil and gas  $119,145    \n",
       "\n",
       "         Profit  Employees                        Country        Date  \n",
       "Rank                                                                   \n",
       "1        $6,670  2,200,000                  United States    1/2/2012  \n",
       "2        $5,845    619.151                          China   3/31/2017  \n",
       "3       $23,352         81   Netherlands / United Kingdom    4/5/2019  \n",
       "4        $2,270  1,382,401                          China   2/19/2000  \n",
       "5        $8,174    917.717                          China  11/15/2010  \n",
       "6      $110,974     76.418                   Saudi Arabia   5/20/2018  \n",
       "7        $9,383          5                 United Kingdom   4/19/2019  \n",
       "8       $20,840         71                  United States   3/10/2018  \n",
       "9       $14,332    664.496                        Germany   3/11/2018  \n",
       "10      $16,982     370.87                          Japan   3/12/2018  \n",
       "11      $59,531        132                  United States   3/13/2018  \n",
       "12       $4,021        389                  United States   3/14/2018  \n",
       "13      $10,073        647                  United States   3/15/2018  \n",
       "14      $11,986        300                            USA   3/16/2018  \n",
       "15      $39,895    221.579                    South Korea   3/17/2018  \n",
       "16       $3,408     85.504                    Switzerland   3/18/2018  \n",
       "17          $34         70                  United States   3/19/2018  \n",
       "18       $8,555    298.683                        Germany   3/20/2018  \n",
       "19        -$594        295                  United States        NONE  \n",
       "20      $11,446     104.46                         France   3/22/2018  \n",
       "21       $3,159    302.827                          China   3/23/2018  \n",
       "22         $849      4.316                      Singapore   3/24/2018  \n",
       "23       $4,281     667.68                         Taiwan   3/25/2018  \n",
       "24       $1,589     314.79                    Netherlands   3/26/2018  \n",
       "25      $19,370        254                  United States   3/27/2018  \n",
       "26      $45,002    449.296                          China   3/28/2018  \n",
       "27       $1,658       20.5                  United States   3/29/2018  \n",
       "28      $14,824       None                  United States   3/30/2018  \n",
       "29          NaN     342.55                          China   3/31/2018  \n",
       "30       $3,677        199               United     State    4/1/2018  \n",
       "31      $38,498    366.996                            NaN    4/2/2018  \n",
       "32       $8,014        173                  United States    4/3/2018  \n",
       "33       $5,328     79.994                          Japan    4/4/2018  \n",
       "34       $5,504    219.772                          Japan    4/5/2018  \n",
       "35       $3,134        194                  United States    4/6/2018  \n",
       "36      $30,656    477.526                          China    4/7/2018  \n",
       "37      $30,736     98.771                  United States    4/8/2018  \n",
       "38         $256       50.2                            usa    4/9/2018  \n",
       "39       $5,443    147.738                          China   4/10/2018  \n",
       "40       $5,024        299                  United States   4/11/2018  \n",
       "41      $32,474    256.105                  United States   4/12/2018  \n",
       "42      $23,199      466.1                         Russia   4/13/2018  \n",
       "43      $15,528      144.5                  United States   4/14/2018  \n",
       "44      $27,255    310.119                          Empty   4/15/2018  \n",
       "45       $8,806     142.46                        Germany   4/16/2018  \n",
       "46       $2,525    104.065                         France   4/17/2018  \n",
       "47       $3,110        453                  United States   4/18/2018  \n",
       "48     -$22,355        283                  United States   4/19/2018  \n",
       "49      $15,959        7.4                  United States   4/20/2018  \n",
       "50       $9,863      102.5                         Russia   4/21/2018  "
      ]
     },
     "execution_count": 195,
     "metadata": {},
     "output_type": "execute_result"
    }
   ],
   "source": [
    "df"
   ]
  },
  {
   "cell_type": "code",
   "execution_count": 185,
   "metadata": {},
   "outputs": [
    {
     "data": {
      "text/plain": [
       "array(['\\xa0United States', 'China', '\\xa0Netherlands / United Kingdom',\n",
       "       'china', '\\xa0Saudi Arabia', '\\xa0United Kingdom', '\\xa0Germany',\n",
       "       '\\xa0Japan', 'United States', 'USA', '\\xa0South Korea',\n",
       "       '\\xa0Switzerland', '\\xa0France', '\\xa0China', '\\xa0Singapore',\n",
       "       '\\xa0Taiwan', '\\xa0Netherlands', 'United     State', nan, 'usa',\n",
       "       '\\xa0Russia', 'Empty'], dtype=object)"
      ]
     },
     "execution_count": 185,
     "metadata": {},
     "output_type": "execute_result"
    }
   ],
   "source": [
    "df[\"Country\"].unique()"
   ]
  },
  {
   "cell_type": "code",
   "execution_count": 189,
   "metadata": {},
   "outputs": [
    {
     "data": {
      "text/plain": [
       "Name         China National Petroleum\n",
       "Industry                  Oil and gas\n",
       "Revenue                     $392,976 \n",
       "Profit                         $2,270\n",
       "Employees                   1,382,401\n",
       "Country                         china\n",
       "Date                        2/19/2000\n",
       "Name: 4, dtype: object"
      ]
     },
     "execution_count": 189,
     "metadata": {},
     "output_type": "execute_result"
    }
   ],
   "source": [
    "df.loc[4]"
   ]
  },
  {
   "cell_type": "code",
   "execution_count": 196,
   "metadata": {},
   "outputs": [],
   "source": [
    "#df[\"date\"].dt.weekday_name"
   ]
  },
  {
   "cell_type": "code",
   "execution_count": 197,
   "metadata": {},
   "outputs": [
    {
     "data": {
      "text/html": [
       "<div>\n",
       "<style scoped>\n",
       "    .dataframe tbody tr th:only-of-type {\n",
       "        vertical-align: middle;\n",
       "    }\n",
       "\n",
       "    .dataframe tbody tr th {\n",
       "        vertical-align: top;\n",
       "    }\n",
       "\n",
       "    .dataframe thead th {\n",
       "        text-align: right;\n",
       "    }\n",
       "</style>\n",
       "<table border=\"1\" class=\"dataframe\">\n",
       "  <thead>\n",
       "    <tr style=\"text-align: right;\">\n",
       "      <th></th>\n",
       "      <th>Name</th>\n",
       "      <th>Industry</th>\n",
       "      <th>Revenue</th>\n",
       "      <th>Profit</th>\n",
       "      <th>Employees</th>\n",
       "      <th>Country</th>\n",
       "      <th>Date</th>\n",
       "    </tr>\n",
       "    <tr>\n",
       "      <th>Rank</th>\n",
       "      <th></th>\n",
       "      <th></th>\n",
       "      <th></th>\n",
       "      <th></th>\n",
       "      <th></th>\n",
       "      <th></th>\n",
       "      <th></th>\n",
       "    </tr>\n",
       "  </thead>\n",
       "  <tbody>\n",
       "    <tr>\n",
       "      <th>1</th>\n",
       "      <td>Walmart</td>\n",
       "      <td>Retail</td>\n",
       "      <td>$514,405</td>\n",
       "      <td>$6,670</td>\n",
       "      <td>2,200,000</td>\n",
       "      <td>United States</td>\n",
       "      <td>1/2/2012</td>\n",
       "    </tr>\n",
       "    <tr>\n",
       "      <th>2</th>\n",
       "      <td>Sinopec</td>\n",
       "      <td>Oil and gas</td>\n",
       "      <td>$414,649</td>\n",
       "      <td>$5,845</td>\n",
       "      <td>619.151</td>\n",
       "      <td>China</td>\n",
       "      <td>3/31/2017</td>\n",
       "    </tr>\n",
       "    <tr>\n",
       "      <th>3</th>\n",
       "      <td>Royal Dutch Shell</td>\n",
       "      <td>Oil and gas</td>\n",
       "      <td>$396,556</td>\n",
       "      <td>$23,352</td>\n",
       "      <td>81</td>\n",
       "      <td>Netherlands / United Kingdom</td>\n",
       "      <td>4/5/2019</td>\n",
       "    </tr>\n",
       "    <tr>\n",
       "      <th>4</th>\n",
       "      <td>China National Petroleum</td>\n",
       "      <td>Oil and gas</td>\n",
       "      <td>$392,976</td>\n",
       "      <td>$2,270</td>\n",
       "      <td>1,382,401</td>\n",
       "      <td>China</td>\n",
       "      <td>2/19/2000</td>\n",
       "    </tr>\n",
       "    <tr>\n",
       "      <th>5</th>\n",
       "      <td>State Grid</td>\n",
       "      <td>Electricity</td>\n",
       "      <td>$387,056</td>\n",
       "      <td>$8,174</td>\n",
       "      <td>917.717</td>\n",
       "      <td>China</td>\n",
       "      <td>11/15/2010</td>\n",
       "    </tr>\n",
       "    <tr>\n",
       "      <th>6</th>\n",
       "      <td>Saudi Aramco</td>\n",
       "      <td>Oil and gas</td>\n",
       "      <td>$355,905</td>\n",
       "      <td>$110,974</td>\n",
       "      <td>76.418</td>\n",
       "      <td>Saudi Arabia</td>\n",
       "      <td>5/20/2018</td>\n",
       "    </tr>\n",
       "    <tr>\n",
       "      <th>7</th>\n",
       "      <td>BP</td>\n",
       "      <td>Oil and gas</td>\n",
       "      <td>$303,738</td>\n",
       "      <td>$9,383</td>\n",
       "      <td>5</td>\n",
       "      <td>United Kingdom</td>\n",
       "      <td>4/19/2019</td>\n",
       "    </tr>\n",
       "    <tr>\n",
       "      <th>8</th>\n",
       "      <td>ExxonMobil</td>\n",
       "      <td>Oil and gas</td>\n",
       "      <td>$290,212</td>\n",
       "      <td>$20,840</td>\n",
       "      <td>71</td>\n",
       "      <td>United States</td>\n",
       "      <td>3/10/2018</td>\n",
       "    </tr>\n",
       "    <tr>\n",
       "      <th>9</th>\n",
       "      <td>Volkswagen</td>\n",
       "      <td>NaN</td>\n",
       "      <td>$278,341</td>\n",
       "      <td>$14,332</td>\n",
       "      <td>664.496</td>\n",
       "      <td>Germany</td>\n",
       "      <td>3/11/2018</td>\n",
       "    </tr>\n",
       "    <tr>\n",
       "      <th>10</th>\n",
       "      <td>Toyota</td>\n",
       "      <td>Automotive</td>\n",
       "      <td>$272,612</td>\n",
       "      <td>$16,982</td>\n",
       "      <td>370.87</td>\n",
       "      <td>Japan</td>\n",
       "      <td>3/12/2018</td>\n",
       "    </tr>\n",
       "    <tr>\n",
       "      <th>11</th>\n",
       "      <td>Apple</td>\n",
       "      <td>Electronics</td>\n",
       "      <td>$265,595</td>\n",
       "      <td>$59,531</td>\n",
       "      <td>132</td>\n",
       "      <td>United States</td>\n",
       "      <td>3/13/2018</td>\n",
       "    </tr>\n",
       "    <tr>\n",
       "      <th>12</th>\n",
       "      <td>Berkshire Hathaway</td>\n",
       "      <td>Financials</td>\n",
       "      <td>$247,837</td>\n",
       "      <td>$4,021</td>\n",
       "      <td>389</td>\n",
       "      <td>United States</td>\n",
       "      <td>3/14/2018</td>\n",
       "    </tr>\n",
       "    <tr>\n",
       "      <th>13</th>\n",
       "      <td>Amazon</td>\n",
       "      <td>Retail</td>\n",
       "      <td>$232,887</td>\n",
       "      <td>$10,073</td>\n",
       "      <td>647</td>\n",
       "      <td>United States</td>\n",
       "      <td>3/15/2018</td>\n",
       "    </tr>\n",
       "    <tr>\n",
       "      <th>14</th>\n",
       "      <td>UnitedHealth</td>\n",
       "      <td>Healthcare</td>\n",
       "      <td>$226,247</td>\n",
       "      <td>$11,986</td>\n",
       "      <td>300</td>\n",
       "      <td>USA</td>\n",
       "      <td>3/16/2018</td>\n",
       "    </tr>\n",
       "    <tr>\n",
       "      <th>15</th>\n",
       "      <td>Samsung Electronics</td>\n",
       "      <td>Electronics</td>\n",
       "      <td>$221,579</td>\n",
       "      <td>$39,895</td>\n",
       "      <td>221.579</td>\n",
       "      <td>South Korea</td>\n",
       "      <td>3/17/2018</td>\n",
       "    </tr>\n",
       "    <tr>\n",
       "      <th>16</th>\n",
       "      <td>Glencore</td>\n",
       "      <td>Commodities</td>\n",
       "      <td>$219,754</td>\n",
       "      <td>$3,408</td>\n",
       "      <td>85.504</td>\n",
       "      <td>Switzerland</td>\n",
       "      <td>3/18/2018</td>\n",
       "    </tr>\n",
       "    <tr>\n",
       "      <th>17</th>\n",
       "      <td>McKesson</td>\n",
       "      <td>Healthcare</td>\n",
       "      <td>$214,319</td>\n",
       "      <td>$34</td>\n",
       "      <td>70</td>\n",
       "      <td>United States</td>\n",
       "      <td>3/19/2018</td>\n",
       "    </tr>\n",
       "    <tr>\n",
       "      <th>18</th>\n",
       "      <td>Daimler</td>\n",
       "      <td>Automotive</td>\n",
       "      <td>$197,515</td>\n",
       "      <td>$8,555</td>\n",
       "      <td>298.683</td>\n",
       "      <td>Germany</td>\n",
       "      <td>3/20/2018</td>\n",
       "    </tr>\n",
       "    <tr>\n",
       "      <th>19</th>\n",
       "      <td>CVS Health</td>\n",
       "      <td>Healthcare</td>\n",
       "      <td>$194,579</td>\n",
       "      <td>-$594</td>\n",
       "      <td>295</td>\n",
       "      <td>United States</td>\n",
       "      <td>NONE</td>\n",
       "    </tr>\n",
       "    <tr>\n",
       "      <th>20</th>\n",
       "      <td>Total</td>\n",
       "      <td>Oil and gas</td>\n",
       "      <td>$184,106</td>\n",
       "      <td>$11,446</td>\n",
       "      <td>104.46</td>\n",
       "      <td>France</td>\n",
       "      <td>3/22/2018</td>\n",
       "    </tr>\n",
       "    <tr>\n",
       "      <th>21</th>\n",
       "      <td>NaN</td>\n",
       "      <td>Construction</td>\n",
       "      <td>$181,524</td>\n",
       "      <td>$3,159</td>\n",
       "      <td>302.827</td>\n",
       "      <td>China</td>\n",
       "      <td>3/23/2018</td>\n",
       "    </tr>\n",
       "    <tr>\n",
       "      <th>22</th>\n",
       "      <td>Trafigura</td>\n",
       "      <td>Commodities</td>\n",
       "      <td>None</td>\n",
       "      <td>$849</td>\n",
       "      <td>4.316</td>\n",
       "      <td>Singapore</td>\n",
       "      <td>3/24/2018</td>\n",
       "    </tr>\n",
       "    <tr>\n",
       "      <th>23</th>\n",
       "      <td>Foxconn</td>\n",
       "      <td>NaN</td>\n",
       "      <td>$175,617</td>\n",
       "      <td>$4,281</td>\n",
       "      <td>667.68</td>\n",
       "      <td>Taiwan</td>\n",
       "      <td>3/25/2018</td>\n",
       "    </tr>\n",
       "    <tr>\n",
       "      <th>24</th>\n",
       "      <td>Exor</td>\n",
       "      <td>Financials</td>\n",
       "      <td>Null</td>\n",
       "      <td>$1,589</td>\n",
       "      <td>314.79</td>\n",
       "      <td>Netherlands</td>\n",
       "      <td>3/26/2018</td>\n",
       "    </tr>\n",
       "    <tr>\n",
       "      <th>25</th>\n",
       "      <td>AT&amp;T</td>\n",
       "      <td>Telecommunications</td>\n",
       "      <td>$170,756</td>\n",
       "      <td>$19,370</td>\n",
       "      <td>254</td>\n",
       "      <td>United States</td>\n",
       "      <td>3/27/2018</td>\n",
       "    </tr>\n",
       "    <tr>\n",
       "      <th>26</th>\n",
       "      <td>ICBC</td>\n",
       "      <td>Financials</td>\n",
       "      <td>$168,979</td>\n",
       "      <td>$45,002</td>\n",
       "      <td>449.296</td>\n",
       "      <td>China</td>\n",
       "      <td>3/28/2018</td>\n",
       "    </tr>\n",
       "    <tr>\n",
       "      <th>27</th>\n",
       "      <td>AmerisourceBergen</td>\n",
       "      <td>Pharmaceutical distribution</td>\n",
       "      <td>$167,939</td>\n",
       "      <td>$1,658</td>\n",
       "      <td>20.5</td>\n",
       "      <td>United States</td>\n",
       "      <td>3/29/2018</td>\n",
       "    </tr>\n",
       "    <tr>\n",
       "      <th>28</th>\n",
       "      <td>Chevron</td>\n",
       "      <td>Oil and gas</td>\n",
       "      <td>$166,339</td>\n",
       "      <td>$14,824</td>\n",
       "      <td>None</td>\n",
       "      <td>United States</td>\n",
       "      <td>3/30/2018</td>\n",
       "    </tr>\n",
       "    <tr>\n",
       "      <th>29</th>\n",
       "      <td>Ping An Insurance</td>\n",
       "      <td>Financials</td>\n",
       "      <td>$163,597</td>\n",
       "      <td>NaN</td>\n",
       "      <td>342.55</td>\n",
       "      <td>China</td>\n",
       "      <td>3/31/2018</td>\n",
       "    </tr>\n",
       "    <tr>\n",
       "      <th>30</th>\n",
       "      <td>Ford</td>\n",
       "      <td>Automotive</td>\n",
       "      <td>$160,338</td>\n",
       "      <td>$3,677</td>\n",
       "      <td>199</td>\n",
       "      <td>United     State</td>\n",
       "      <td>4/1/2018</td>\n",
       "    </tr>\n",
       "    <tr>\n",
       "      <th>31</th>\n",
       "      <td>China Construction Bank</td>\n",
       "      <td>Financials</td>\n",
       "      <td>$151,110</td>\n",
       "      <td>$38,498</td>\n",
       "      <td>366.996</td>\n",
       "      <td>NaN</td>\n",
       "      <td>4/2/2018</td>\n",
       "    </tr>\n",
       "    <tr>\n",
       "      <th>32</th>\n",
       "      <td>General Motors</td>\n",
       "      <td>Automotive</td>\n",
       "      <td>$147,049</td>\n",
       "      <td>$8,014</td>\n",
       "      <td>173</td>\n",
       "      <td>United States</td>\n",
       "      <td>4/3/2018</td>\n",
       "    </tr>\n",
       "    <tr>\n",
       "      <th>33</th>\n",
       "      <td>NaN</td>\n",
       "      <td>Conglomerate</td>\n",
       "      <td>$145,243</td>\n",
       "      <td>$5,328</td>\n",
       "      <td>79.994</td>\n",
       "      <td>Japan</td>\n",
       "      <td>4/4/2018</td>\n",
       "    </tr>\n",
       "    <tr>\n",
       "      <th>34</th>\n",
       "      <td>Honda</td>\n",
       "      <td>Automotive</td>\n",
       "      <td>$143,302</td>\n",
       "      <td>$5,504</td>\n",
       "      <td>219.772</td>\n",
       "      <td>Japan</td>\n",
       "      <td>4/5/2018</td>\n",
       "    </tr>\n",
       "    <tr>\n",
       "      <th>35</th>\n",
       "      <td>Costco</td>\n",
       "      <td>Retail</td>\n",
       "      <td>$141,576</td>\n",
       "      <td>$3,134</td>\n",
       "      <td>194</td>\n",
       "      <td>United States</td>\n",
       "      <td>4/6/2018</td>\n",
       "    </tr>\n",
       "    <tr>\n",
       "      <th>36</th>\n",
       "      <td>Agricultural Bank of China</td>\n",
       "      <td>Financials</td>\n",
       "      <td>$139,523</td>\n",
       "      <td>$30,656</td>\n",
       "      <td>477.526</td>\n",
       "      <td>China</td>\n",
       "      <td>4/7/2018</td>\n",
       "    </tr>\n",
       "    <tr>\n",
       "      <th>37</th>\n",
       "      <td>Alphabet</td>\n",
       "      <td>Internet</td>\n",
       "      <td>$136,819</td>\n",
       "      <td>$30,736</td>\n",
       "      <td>98.771</td>\n",
       "      <td>United States</td>\n",
       "      <td>4/8/2018</td>\n",
       "    </tr>\n",
       "    <tr>\n",
       "      <th>38</th>\n",
       "      <td>Cardinal Health</td>\n",
       "      <td>Pharmaceutical distribution</td>\n",
       "      <td>$136,809</td>\n",
       "      <td>$256</td>\n",
       "      <td>50.2</td>\n",
       "      <td>usa</td>\n",
       "      <td>4/9/2018</td>\n",
       "    </tr>\n",
       "    <tr>\n",
       "      <th>39</th>\n",
       "      <td>SAIC Motor</td>\n",
       "      <td>Automotive</td>\n",
       "      <td>$136,392</td>\n",
       "      <td>$5,443</td>\n",
       "      <td>147.738</td>\n",
       "      <td>China</td>\n",
       "      <td>4/10/2018</td>\n",
       "    </tr>\n",
       "    <tr>\n",
       "      <th>40</th>\n",
       "      <td>Walgreens Boots Alliance</td>\n",
       "      <td>Retail</td>\n",
       "      <td>$131,537</td>\n",
       "      <td>$5,024</td>\n",
       "      <td>299</td>\n",
       "      <td>United States</td>\n",
       "      <td>4/11/2018</td>\n",
       "    </tr>\n",
       "    <tr>\n",
       "      <th>41</th>\n",
       "      <td>JPMorgan Chase</td>\n",
       "      <td>Financials</td>\n",
       "      <td>$131,412</td>\n",
       "      <td>$32,474</td>\n",
       "      <td>256.105</td>\n",
       "      <td>United States</td>\n",
       "      <td>4/12/2018</td>\n",
       "    </tr>\n",
       "    <tr>\n",
       "      <th>42</th>\n",
       "      <td>Gazprom</td>\n",
       "      <td>Oil and gas</td>\n",
       "      <td>$131,302</td>\n",
       "      <td>$23,199</td>\n",
       "      <td>466.1</td>\n",
       "      <td>Russia</td>\n",
       "      <td>4/13/2018</td>\n",
       "    </tr>\n",
       "    <tr>\n",
       "      <th>43</th>\n",
       "      <td>Verizon</td>\n",
       "      <td>NaN</td>\n",
       "      <td>$130,863</td>\n",
       "      <td>$15,528</td>\n",
       "      <td>144.5</td>\n",
       "      <td>United States</td>\n",
       "      <td>4/14/2018</td>\n",
       "    </tr>\n",
       "    <tr>\n",
       "      <th>44</th>\n",
       "      <td>Bank of China</td>\n",
       "      <td>Financials</td>\n",
       "      <td>$127,714</td>\n",
       "      <td>$27,255</td>\n",
       "      <td>310.119</td>\n",
       "      <td>Empty</td>\n",
       "      <td>4/15/2018</td>\n",
       "    </tr>\n",
       "    <tr>\n",
       "      <th>45</th>\n",
       "      <td>Allianz</td>\n",
       "      <td>Financials</td>\n",
       "      <td>$126,779</td>\n",
       "      <td>$8,806</td>\n",
       "      <td>142.46</td>\n",
       "      <td>Germany</td>\n",
       "      <td>4/16/2018</td>\n",
       "    </tr>\n",
       "    <tr>\n",
       "      <th>46</th>\n",
       "      <td>AXA</td>\n",
       "      <td>Financials</td>\n",
       "      <td>$125,578</td>\n",
       "      <td>$2,525</td>\n",
       "      <td>104.065</td>\n",
       "      <td>France</td>\n",
       "      <td>4/17/2018</td>\n",
       "    </tr>\n",
       "    <tr>\n",
       "      <th>47</th>\n",
       "      <td>Kroger</td>\n",
       "      <td>NaN</td>\n",
       "      <td>$121,162</td>\n",
       "      <td>$3,110</td>\n",
       "      <td>453</td>\n",
       "      <td>United States</td>\n",
       "      <td>4/18/2018</td>\n",
       "    </tr>\n",
       "    <tr>\n",
       "      <th>48</th>\n",
       "      <td>General Electric</td>\n",
       "      <td>Conglomerate</td>\n",
       "      <td>$120,268</td>\n",
       "      <td>-$22,355</td>\n",
       "      <td>283</td>\n",
       "      <td>United States</td>\n",
       "      <td>4/19/2018</td>\n",
       "    </tr>\n",
       "    <tr>\n",
       "      <th>49</th>\n",
       "      <td>Fannie Mae</td>\n",
       "      <td>Financials</td>\n",
       "      <td>Nothing</td>\n",
       "      <td>$15,959</td>\n",
       "      <td>7.4</td>\n",
       "      <td>United States</td>\n",
       "      <td>4/20/2018</td>\n",
       "    </tr>\n",
       "    <tr>\n",
       "      <th>50</th>\n",
       "      <td>Lukoil</td>\n",
       "      <td>Oil and gas</td>\n",
       "      <td>$119,145</td>\n",
       "      <td>$9,863</td>\n",
       "      <td>102.5</td>\n",
       "      <td>Russia</td>\n",
       "      <td>4/21/2018</td>\n",
       "    </tr>\n",
       "  </tbody>\n",
       "</table>\n",
       "</div>"
      ],
      "text/plain": [
       "                            Name                     Industry    Revenue  \\\n",
       "Rank                                                                       \n",
       "1                        Walmart                       Retail  $514,405    \n",
       "2                        Sinopec                  Oil and gas  $414,649    \n",
       "3              Royal Dutch Shell                  Oil and gas  $396,556    \n",
       "4       China National Petroleum                  Oil and gas  $392,976    \n",
       "5                     State Grid                  Electricity  $387,056    \n",
       "6                   Saudi Aramco                  Oil and gas  $355,905    \n",
       "7                             BP                  Oil and gas  $303,738    \n",
       "8                     ExxonMobil                  Oil and gas  $290,212    \n",
       "9                     Volkswagen                          NaN  $278,341    \n",
       "10                        Toyota                   Automotive  $272,612    \n",
       "11                         Apple                  Electronics  $265,595    \n",
       "12            Berkshire Hathaway                   Financials  $247,837    \n",
       "13                        Amazon                       Retail  $232,887    \n",
       "14                  UnitedHealth                   Healthcare  $226,247    \n",
       "15           Samsung Electronics                  Electronics  $221,579    \n",
       "16                      Glencore                  Commodities  $219,754    \n",
       "17                      McKesson                   Healthcare  $214,319    \n",
       "18                       Daimler                   Automotive  $197,515    \n",
       "19                    CVS Health                   Healthcare  $194,579    \n",
       "20                         Total                  Oil and gas  $184,106    \n",
       "21                           NaN                 Construction  $181,524    \n",
       "22                     Trafigura                  Commodities       None   \n",
       "23                       Foxconn                          NaN  $175,617    \n",
       "24                          Exor                   Financials       Null   \n",
       "25                          AT&T           Telecommunications  $170,756    \n",
       "26                          ICBC                   Financials  $168,979    \n",
       "27             AmerisourceBergen  Pharmaceutical distribution  $167,939    \n",
       "28                       Chevron                  Oil and gas  $166,339    \n",
       "29             Ping An Insurance                   Financials  $163,597    \n",
       "30                          Ford                   Automotive  $160,338    \n",
       "31       China Construction Bank                   Financials  $151,110    \n",
       "32                General Motors                   Automotive  $147,049    \n",
       "33                           NaN                 Conglomerate  $145,243    \n",
       "34                         Honda                   Automotive  $143,302    \n",
       "35                        Costco                       Retail  $141,576    \n",
       "36    Agricultural Bank of China                   Financials  $139,523    \n",
       "37                      Alphabet                     Internet  $136,819    \n",
       "38               Cardinal Health  Pharmaceutical distribution  $136,809    \n",
       "39                    SAIC Motor                   Automotive  $136,392    \n",
       "40      Walgreens Boots Alliance                       Retail  $131,537    \n",
       "41                JPMorgan Chase                   Financials  $131,412    \n",
       "42                       Gazprom                  Oil and gas  $131,302    \n",
       "43                       Verizon                          NaN  $130,863    \n",
       "44                 Bank of China                   Financials  $127,714    \n",
       "45                       Allianz                   Financials  $126,779    \n",
       "46                           AXA                   Financials  $125,578    \n",
       "47                        Kroger                          NaN  $121,162    \n",
       "48              General Electric                 Conglomerate  $120,268    \n",
       "49                    Fannie Mae                   Financials    Nothing   \n",
       "50                        Lukoil                  Oil and gas  $119,145    \n",
       "\n",
       "         Profit  Employees                        Country        Date  \n",
       "Rank                                                                   \n",
       "1        $6,670  2,200,000                  United States    1/2/2012  \n",
       "2        $5,845    619.151                          China   3/31/2017  \n",
       "3       $23,352         81   Netherlands / United Kingdom    4/5/2019  \n",
       "4        $2,270  1,382,401                          China   2/19/2000  \n",
       "5        $8,174    917.717                          China  11/15/2010  \n",
       "6      $110,974     76.418                   Saudi Arabia   5/20/2018  \n",
       "7        $9,383          5                 United Kingdom   4/19/2019  \n",
       "8       $20,840         71                  United States   3/10/2018  \n",
       "9       $14,332    664.496                        Germany   3/11/2018  \n",
       "10      $16,982     370.87                          Japan   3/12/2018  \n",
       "11      $59,531        132                  United States   3/13/2018  \n",
       "12       $4,021        389                  United States   3/14/2018  \n",
       "13      $10,073        647                  United States   3/15/2018  \n",
       "14      $11,986        300                            USA   3/16/2018  \n",
       "15      $39,895    221.579                    South Korea   3/17/2018  \n",
       "16       $3,408     85.504                    Switzerland   3/18/2018  \n",
       "17          $34         70                  United States   3/19/2018  \n",
       "18       $8,555    298.683                        Germany   3/20/2018  \n",
       "19        -$594        295                  United States        NONE  \n",
       "20      $11,446     104.46                         France   3/22/2018  \n",
       "21       $3,159    302.827                          China   3/23/2018  \n",
       "22         $849      4.316                      Singapore   3/24/2018  \n",
       "23       $4,281     667.68                         Taiwan   3/25/2018  \n",
       "24       $1,589     314.79                    Netherlands   3/26/2018  \n",
       "25      $19,370        254                  United States   3/27/2018  \n",
       "26      $45,002    449.296                          China   3/28/2018  \n",
       "27       $1,658       20.5                  United States   3/29/2018  \n",
       "28      $14,824       None                  United States   3/30/2018  \n",
       "29          NaN     342.55                          China   3/31/2018  \n",
       "30       $3,677        199               United     State    4/1/2018  \n",
       "31      $38,498    366.996                            NaN    4/2/2018  \n",
       "32       $8,014        173                  United States    4/3/2018  \n",
       "33       $5,328     79.994                          Japan    4/4/2018  \n",
       "34       $5,504    219.772                          Japan    4/5/2018  \n",
       "35       $3,134        194                  United States    4/6/2018  \n",
       "36      $30,656    477.526                          China    4/7/2018  \n",
       "37      $30,736     98.771                  United States    4/8/2018  \n",
       "38         $256       50.2                            usa    4/9/2018  \n",
       "39       $5,443    147.738                          China   4/10/2018  \n",
       "40       $5,024        299                  United States   4/11/2018  \n",
       "41      $32,474    256.105                  United States   4/12/2018  \n",
       "42      $23,199      466.1                         Russia   4/13/2018  \n",
       "43      $15,528      144.5                  United States   4/14/2018  \n",
       "44      $27,255    310.119                          Empty   4/15/2018  \n",
       "45       $8,806     142.46                        Germany   4/16/2018  \n",
       "46       $2,525    104.065                         France   4/17/2018  \n",
       "47       $3,110        453                  United States   4/18/2018  \n",
       "48     -$22,355        283                  United States   4/19/2018  \n",
       "49      $15,959        7.4                  United States   4/20/2018  \n",
       "50       $9,863      102.5                         Russia   4/21/2018  "
      ]
     },
     "execution_count": 197,
     "metadata": {},
     "output_type": "execute_result"
    }
   ],
   "source": [
    "df"
   ]
  },
  {
   "cell_type": "code",
   "execution_count": null,
   "metadata": {},
   "outputs": [],
   "source": []
  }
 ],
 "metadata": {
  "kernelspec": {
   "display_name": "Python 3",
   "language": "python",
   "name": "python3"
  },
  "language_info": {
   "codemirror_mode": {
    "name": "ipython",
    "version": 3
   },
   "file_extension": ".py",
   "mimetype": "text/x-python",
   "name": "python",
   "nbconvert_exporter": "python",
   "pygments_lexer": "ipython3",
   "version": "3.7.6"
  }
 },
 "nbformat": 4,
 "nbformat_minor": 4
}
